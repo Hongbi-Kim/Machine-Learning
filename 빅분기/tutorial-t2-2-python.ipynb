{
 "cells": [
  {
   "attachments": {
    "f70c3a4b-9984-4656-af95-dac047a900cb.png": {
     "image/png": "[encoded data removed]"
    }
   },
   "cell_type": "markdown",
   "id": "7728be52",
   "metadata": {
    "papermill": {
     "duration": 0.037768,
     "end_time": "2021-12-03T05:51:51.354152",
     "exception": false,
     "start_time": "2021-12-03T05:51:51.316384",
     "status": "completed"
    },
    "tags": []
   },
   "source": [
    "## 전자상거래 배송 데이터\n",
    "### 제품 배송 시간에 맞춰 배송되었는지 예측모델 만들기\n",
    "학습용 데이터 (X_train, y_train)을 이용하여 배송 예측 모형을 만든 후, 이를 평가용 데이터(X_test)에 적용하여 얻은 예측값을 다음과 같은 형식의 CSV파일로 생성하시오(제출한 모델의 성능은 ROC-AUC 평가지표에 따라 채점)\n",
    "\n",
    "![image.png](attachment:f70c3a4b-9984-4656-af95-dac047a900cb.png)\n",
    "\n",
    "[시험용 데이터셋 만들기] 코드는 예시문제와 동일한 형태의 X_train, y_train, X_test 데이터를 만들기 위함임\n",
    "\n",
    "(유의사항)\n",
    "- 성능이 우수한 예측모형을 구축하기 위해서는 적절한 데이터 전처리, 피처엔지니어링, 분류알고리즘, 하이퍼파라미터 튜닝, 모형 앙상블 등이 수반되어야 한다.\n",
    "- 수험번호.csv파일이 만들어지도록 코드를 제출한다.\n",
    "- 제출한 모델의 성능은 ROC-AUC형태로 읽어드린다."
   ]
  },
  {
   "cell_type": "markdown",
   "id": "661703f4",
   "metadata": {
    "papermill": {
     "duration": 0.029815,
     "end_time": "2021-12-03T05:51:51.416139",
     "exception": false,
     "start_time": "2021-12-03T05:51:51.386324",
     "status": "completed"
    },
    "tags": []
   },
   "source": [
    "## [참고]작업형2 문구\n",
    "- 출력을 원하실 경우 print() 함수 활용\n",
    "- 예시) print(df.head())\n",
    "- getcwd(), chdir() 등 작업 폴더 설정 불필요\n",
    "- 파일 경로 상 내부 드라이브 경로(C: 등) 접근 불가\n",
    "\n",
    "### 데이터 파일 읽기 예제\n",
    "- import pandas as pd\n",
    "- X_test = pd.read_csv(\"data/X_test.csv\")\n",
    "- X_train = pd.read_csv(\"data/X_train.csv\")\n",
    "- y_train = pd.read_csv(\"data/y_train.csv\")\n",
    "\n",
    "### 사용자 코딩\n",
    "\n",
    "### 답안 제출 참고\n",
    "- 아래 코드 예측변수와 수험번호를 개인별로 변경하여 활용\n",
    "- pd.DataFrame({'cust_id': X_test.cust_id, 'gender': pred}).to_csv('003000000.csv', index=False)"
   ]
  },
  {
   "cell_type": "code",
   "execution_count": 1,
   "id": "7f0b61f6",
   "metadata": {
    "execution": {
     "iopub.execute_input": "2021-12-03T05:51:51.480420Z",
     "iopub.status.busy": "2021-12-03T05:51:51.479246Z",
     "iopub.status.idle": "2021-12-03T05:51:52.559140Z",
     "shell.execute_reply": "2021-12-03T05:51:52.558353Z",
     "shell.execute_reply.started": "2021-12-03T05:51:26.089087Z"
    },
    "papermill": {
     "duration": 1.114044,
     "end_time": "2021-12-03T05:51:52.559352",
     "exception": false,
     "start_time": "2021-12-03T05:51:51.445308",
     "status": "completed"
    },
    "tags": []
   },
   "outputs": [
    {
     "data": {
      "text/plain": [
       "((8799, 11), (2200, 11), (8799, 2), (2200, 2))"
      ]
     },
     "execution_count": 1,
     "metadata": {},
     "output_type": "execute_result"
    }
   ],
   "source": [
    "# 시험환경 세팅 (코드 변경 X)\n",
    "import pandas as pd\n",
    "import numpy as np\n",
    "from sklearn.model_selection import train_test_split\n",
    "\n",
    "def exam_data_load(df, target, id_name=\"\", null_name=\"\"):\n",
    "    if id_name == \"\":\n",
    "        df = df.reset_index().rename(columns={\"index\": \"id\"})\n",
    "        id_name = 'id'\n",
    "    else:\n",
    "        id_name = id_name\n",
    "    \n",
    "    if null_name != \"\":\n",
    "        df[df == null_name] = np.nan\n",
    "    \n",
    "    X_train, X_test = train_test_split(df, test_size=0.2, random_state=2021)\n",
    "    \n",
    "    y_train = X_train[[id_name, target]]\n",
    "    X_train = X_train.drop(columns=[target])\n",
    "\n",
    "    \n",
    "    y_test = X_test[[id_name, target]]\n",
    "    X_test = X_test.drop(columns=[target])\n",
    "    return X_train, X_test, y_train, y_test \n",
    "    \n",
    "df = pd.read_csv(\"../input/customer-analytics/Train.csv\")\n",
    "X_train, X_test, y_train, y_test = exam_data_load(df, target='Reached.on.Time_Y.N', id_name='ID')\n",
    "\n",
    "X_train.shape, X_test.shape, y_train.shape, y_test.shape\n"
   ]
  },
  {
   "cell_type": "markdown",
   "id": "ac2c8e63",
   "metadata": {
    "papermill": {
     "duration": 0.031854,
     "end_time": "2021-12-03T05:51:52.621560",
     "exception": false,
     "start_time": "2021-12-03T05:51:52.589706",
     "status": "completed"
    },
    "tags": []
   },
   "source": [
    "## 사용자 코딩"
   ]
  },
  {
   "cell_type": "code",
   "execution_count": 2,
   "id": "cce19bd5",
   "metadata": {
    "execution": {
     "iopub.execute_input": "2021-12-03T05:51:52.688872Z",
     "iopub.status.busy": "2021-12-03T05:51:52.687914Z",
     "iopub.status.idle": "2021-12-03T05:51:52.693381Z",
     "shell.execute_reply": "2021-12-03T05:51:52.693868Z",
     "shell.execute_reply.started": "2021-12-03T05:51:26.127777Z"
    },
    "papermill": {
     "duration": 0.038223,
     "end_time": "2021-12-03T05:51:52.694030",
     "exception": false,
     "start_time": "2021-12-03T05:51:52.655807",
     "status": "completed"
    },
    "tags": []
   },
   "outputs": [
    {
     "data": {
      "text/plain": [
       "((8799, 11), (2200, 11), (8799, 2))"
      ]
     },
     "execution_count": 2,
     "metadata": {},
     "output_type": "execute_result"
    }
   ],
   "source": [
    "# 제공된 3개 데이터 (y_test데이터 활용X)\n",
    "X_train.shape, X_test.shape, y_train.shape"
   ]
  },
  {
   "cell_type": "code",
   "execution_count": null,
   "id": "ef82505e",
   "metadata": {
    "papermill": {
     "duration": 0.03624,
     "end_time": "2021-12-03T05:51:52.759568",
     "exception": false,
     "start_time": "2021-12-03T05:51:52.723328",
     "status": "completed"
    },
    "tags": []
   },
   "outputs": [],
   "source": []
  },
  {
   "cell_type": "code",
   "execution_count": null,
   "id": "7d9feb4d",
   "metadata": {
    "papermill": {
     "duration": 0.03127,
     "end_time": "2021-12-03T05:51:52.826255",
     "exception": false,
     "start_time": "2021-12-03T05:51:52.794985",
     "status": "completed"
    },
    "tags": []
   },
   "outputs": [],
   "source": []
  },
  {
   "cell_type": "code",
   "execution_count": null,
   "id": "8c8b6c1e",
   "metadata": {
    "papermill": {
     "duration": 0.030148,
     "end_time": "2021-12-03T05:51:52.889724",
     "exception": false,
     "start_time": "2021-12-03T05:51:52.859576",
     "status": "completed"
    },
    "tags": []
   },
   "outputs": [],
   "source": []
  },
  {
   "cell_type": "code",
   "execution_count": null,
   "id": "d8b30ba7",
   "metadata": {
    "papermill": {
     "duration": 0.029468,
     "end_time": "2021-12-03T05:51:52.949009",
     "exception": false,
     "start_time": "2021-12-03T05:51:52.919541",
     "status": "completed"
    },
    "tags": []
   },
   "outputs": [],
   "source": []
  },
  {
   "cell_type": "code",
   "execution_count": null,
   "id": "96d61986",
   "metadata": {
    "papermill": {
     "duration": 0.029871,
     "end_time": "2021-12-03T05:51:53.008849",
     "exception": false,
     "start_time": "2021-12-03T05:51:52.978978",
     "status": "completed"
    },
    "tags": []
   },
   "outputs": [],
   "source": []
  },
  {
   "cell_type": "code",
   "execution_count": null,
   "id": "a30290fd",
   "metadata": {
    "papermill": {
     "duration": 0.030905,
     "end_time": "2021-12-03T05:51:53.070587",
     "exception": false,
     "start_time": "2021-12-03T05:51:53.039682",
     "status": "completed"
    },
    "tags": []
   },
   "outputs": [],
   "source": []
  },
  {
   "cell_type": "markdown",
   "id": "7f0be60b",
   "metadata": {
    "papermill": {
     "duration": 0.02994,
     "end_time": "2021-12-03T05:51:53.131300",
     "exception": false,
     "start_time": "2021-12-03T05:51:53.101360",
     "status": "completed"
    },
    "tags": []
   },
   "source": [
    "## 풀이 (Baseline)\n",
    "- 아래코드는 정답이 아닌 풀이 예시입니다."
   ]
  },
  {
   "cell_type": "markdown",
   "id": "58155149",
   "metadata": {
    "papermill": {
     "duration": 0.029771,
     "end_time": "2021-12-03T05:51:53.191458",
     "exception": false,
     "start_time": "2021-12-03T05:51:53.161687",
     "status": "completed"
    },
    "tags": []
   },
   "source": [
    "## EDA"
   ]
  },
  {
   "cell_type": "code",
   "execution_count": 3,
   "id": "d2423702",
   "metadata": {
    "execution": {
     "iopub.execute_input": "2021-12-03T05:51:53.257675Z",
     "iopub.status.busy": "2021-12-03T05:51:53.256713Z",
     "iopub.status.idle": "2021-12-03T05:51:53.275851Z",
     "shell.execute_reply": "2021-12-03T05:51:53.275335Z",
     "shell.execute_reply.started": "2021-12-03T05:51:26.134787Z"
    },
    "papermill": {
     "duration": 0.052026,
     "end_time": "2021-12-03T05:51:53.275995",
     "exception": false,
     "start_time": "2021-12-03T05:51:53.223969",
     "status": "completed"
    },
    "tags": []
   },
   "outputs": [
    {
     "name": "stdout",
     "output_type": "stream",
     "text": [
      "(8799, 11)\n"
     ]
    },
    {
     "data": {
      "text/html": [
       "<div>\n",
       "<style scoped>\n",
       "    .dataframe tbody tr th:only-of-type {\n",
       "        vertical-align: middle;\n",
       "    }\n",
       "\n",
       "    .dataframe tbody tr th {\n",
       "        vertical-align: top;\n",
       "    }\n",
       "\n",
       "    .dataframe thead th {\n",
       "        text-align: right;\n",
       "    }\n",
       "</style>\n",
       "<table border=\"1\" class=\"dataframe\">\n",
       "  <thead>\n",
       "    <tr style=\"text-align: right;\">\n",
       "      <th></th>\n",
       "      <th>ID</th>\n",
       "      <th>Warehouse_block</th>\n",
       "      <th>Mode_of_Shipment</th>\n",
       "      <th>Customer_care_calls</th>\n",
       "      <th>Customer_rating</th>\n",
       "      <th>Cost_of_the_Product</th>\n",
       "      <th>Prior_purchases</th>\n",
       "      <th>Product_importance</th>\n",
       "      <th>Gender</th>\n",
       "      <th>Discount_offered</th>\n",
       "      <th>Weight_in_gms</th>\n",
       "    </tr>\n",
       "  </thead>\n",
       "  <tbody>\n",
       "    <tr>\n",
       "      <th>3999</th>\n",
       "      <td>4000</td>\n",
       "      <td>B</td>\n",
       "      <td>Ship</td>\n",
       "      <td>3</td>\n",
       "      <td>4</td>\n",
       "      <td>134</td>\n",
       "      <td>3</td>\n",
       "      <td>high</td>\n",
       "      <td>F</td>\n",
       "      <td>6</td>\n",
       "      <td>5680</td>\n",
       "    </tr>\n",
       "    <tr>\n",
       "      <th>9559</th>\n",
       "      <td>9560</td>\n",
       "      <td>F</td>\n",
       "      <td>Ship</td>\n",
       "      <td>4</td>\n",
       "      <td>3</td>\n",
       "      <td>173</td>\n",
       "      <td>3</td>\n",
       "      <td>medium</td>\n",
       "      <td>M</td>\n",
       "      <td>5</td>\n",
       "      <td>5331</td>\n",
       "    </tr>\n",
       "    <tr>\n",
       "      <th>2649</th>\n",
       "      <td>2650</td>\n",
       "      <td>B</td>\n",
       "      <td>Ship</td>\n",
       "      <td>2</td>\n",
       "      <td>1</td>\n",
       "      <td>192</td>\n",
       "      <td>3</td>\n",
       "      <td>high</td>\n",
       "      <td>M</td>\n",
       "      <td>46</td>\n",
       "      <td>3206</td>\n",
       "    </tr>\n",
       "    <tr>\n",
       "      <th>4843</th>\n",
       "      <td>4844</td>\n",
       "      <td>F</td>\n",
       "      <td>Ship</td>\n",
       "      <td>6</td>\n",
       "      <td>5</td>\n",
       "      <td>284</td>\n",
       "      <td>4</td>\n",
       "      <td>medium</td>\n",
       "      <td>M</td>\n",
       "      <td>8</td>\n",
       "      <td>5346</td>\n",
       "    </tr>\n",
       "    <tr>\n",
       "      <th>9601</th>\n",
       "      <td>9602</td>\n",
       "      <td>F</td>\n",
       "      <td>Flight</td>\n",
       "      <td>3</td>\n",
       "      <td>1</td>\n",
       "      <td>246</td>\n",
       "      <td>3</td>\n",
       "      <td>low</td>\n",
       "      <td>F</td>\n",
       "      <td>10</td>\n",
       "      <td>4707</td>\n",
       "    </tr>\n",
       "  </tbody>\n",
       "</table>\n",
       "</div>"
      ],
      "text/plain": [
       "        ID Warehouse_block Mode_of_Shipment  Customer_care_calls  \\\n",
       "3999  4000               B             Ship                    3   \n",
       "9559  9560               F             Ship                    4   \n",
       "2649  2650               B             Ship                    2   \n",
       "4843  4844               F             Ship                    6   \n",
       "9601  9602               F           Flight                    3   \n",
       "\n",
       "      Customer_rating  Cost_of_the_Product  Prior_purchases  \\\n",
       "3999                4                  134                3   \n",
       "9559                3                  173                3   \n",
       "2649                1                  192                3   \n",
       "4843                5                  284                4   \n",
       "9601                1                  246                3   \n",
       "\n",
       "     Product_importance Gender  Discount_offered  Weight_in_gms  \n",
       "3999               high      F                 6           5680  \n",
       "9559             medium      M                 5           5331  \n",
       "2649               high      M                46           3206  \n",
       "4843             medium      M                 8           5346  \n",
       "9601                low      F                10           4707  "
      ]
     },
     "execution_count": 3,
     "metadata": {},
     "output_type": "execute_result"
    }
   ],
   "source": [
    "# 데이터 확인\n",
    "print(X_train.shape)\n",
    "X_train.head()"
   ]
  },
  {
   "cell_type": "code",
   "execution_count": 4,
   "id": "6b6d39de",
   "metadata": {
    "execution": {
     "iopub.execute_input": "2021-12-03T05:51:53.343013Z",
     "iopub.status.busy": "2021-12-03T05:51:53.342074Z",
     "iopub.status.idle": "2021-12-03T05:51:53.350492Z",
     "shell.execute_reply": "2021-12-03T05:51:53.351089Z",
     "shell.execute_reply.started": "2021-12-03T05:51:26.163067Z"
    },
    "papermill": {
     "duration": 0.044949,
     "end_time": "2021-12-03T05:51:53.351266",
     "exception": false,
     "start_time": "2021-12-03T05:51:53.306317",
     "status": "completed"
    },
    "tags": []
   },
   "outputs": [
    {
     "data": {
      "text/html": [
       "<div>\n",
       "<style scoped>\n",
       "    .dataframe tbody tr th:only-of-type {\n",
       "        vertical-align: middle;\n",
       "    }\n",
       "\n",
       "    .dataframe tbody tr th {\n",
       "        vertical-align: top;\n",
       "    }\n",
       "\n",
       "    .dataframe thead th {\n",
       "        text-align: right;\n",
       "    }\n",
       "</style>\n",
       "<table border=\"1\" class=\"dataframe\">\n",
       "  <thead>\n",
       "    <tr style=\"text-align: right;\">\n",
       "      <th></th>\n",
       "      <th>ID</th>\n",
       "      <th>Reached.on.Time_Y.N</th>\n",
       "    </tr>\n",
       "  </thead>\n",
       "  <tbody>\n",
       "    <tr>\n",
       "      <th>3999</th>\n",
       "      <td>4000</td>\n",
       "      <td>0</td>\n",
       "    </tr>\n",
       "    <tr>\n",
       "      <th>9559</th>\n",
       "      <td>9560</td>\n",
       "      <td>1</td>\n",
       "    </tr>\n",
       "    <tr>\n",
       "      <th>2649</th>\n",
       "      <td>2650</td>\n",
       "      <td>1</td>\n",
       "    </tr>\n",
       "    <tr>\n",
       "      <th>4843</th>\n",
       "      <td>4844</td>\n",
       "      <td>1</td>\n",
       "    </tr>\n",
       "    <tr>\n",
       "      <th>9601</th>\n",
       "      <td>9602</td>\n",
       "      <td>1</td>\n",
       "    </tr>\n",
       "    <tr>\n",
       "      <th>...</th>\n",
       "      <td>...</td>\n",
       "      <td>...</td>\n",
       "    </tr>\n",
       "    <tr>\n",
       "      <th>3934</th>\n",
       "      <td>3935</td>\n",
       "      <td>0</td>\n",
       "    </tr>\n",
       "    <tr>\n",
       "      <th>2669</th>\n",
       "      <td>2670</td>\n",
       "      <td>1</td>\n",
       "    </tr>\n",
       "    <tr>\n",
       "      <th>1152</th>\n",
       "      <td>1153</td>\n",
       "      <td>1</td>\n",
       "    </tr>\n",
       "    <tr>\n",
       "      <th>6201</th>\n",
       "      <td>6202</td>\n",
       "      <td>0</td>\n",
       "    </tr>\n",
       "    <tr>\n",
       "      <th>9332</th>\n",
       "      <td>9333</td>\n",
       "      <td>0</td>\n",
       "    </tr>\n",
       "  </tbody>\n",
       "</table>\n",
       "<p>8799 rows × 2 columns</p>\n",
       "</div>"
      ],
      "text/plain": [
       "        ID  Reached.on.Time_Y.N\n",
       "3999  4000                    0\n",
       "9559  9560                    1\n",
       "2649  2650                    1\n",
       "4843  4844                    1\n",
       "9601  9602                    1\n",
       "...    ...                  ...\n",
       "3934  3935                    0\n",
       "2669  2670                    1\n",
       "1152  1153                    1\n",
       "6201  6202                    0\n",
       "9332  9333                    0\n",
       "\n",
       "[8799 rows x 2 columns]"
      ]
     },
     "execution_count": 4,
     "metadata": {},
     "output_type": "execute_result"
    }
   ],
   "source": [
    "y_train"
   ]
  },
  {
   "cell_type": "code",
   "execution_count": 5,
   "id": "29c0b0a7",
   "metadata": {
    "execution": {
     "iopub.execute_input": "2021-12-03T05:51:53.417371Z",
     "iopub.status.busy": "2021-12-03T05:51:53.416390Z",
     "iopub.status.idle": "2021-12-03T05:51:53.427710Z",
     "shell.execute_reply": "2021-12-03T05:51:53.427161Z",
     "shell.execute_reply.started": "2021-12-03T05:51:26.179746Z"
    },
    "papermill": {
     "duration": 0.045975,
     "end_time": "2021-12-03T05:51:53.427851",
     "exception": false,
     "start_time": "2021-12-03T05:51:53.381876",
     "status": "completed"
    },
    "tags": []
   },
   "outputs": [
    {
     "data": {
      "text/plain": [
       "1    5251\n",
       "0    3548\n",
       "Name: Reached.on.Time_Y.N, dtype: int64"
      ]
     },
     "execution_count": 5,
     "metadata": {},
     "output_type": "execute_result"
    }
   ],
   "source": [
    "# 레이블(타겟) 확인\n",
    "y_train['Reached.on.Time_Y.N'].value_counts()"
   ]
  },
  {
   "cell_type": "code",
   "execution_count": 6,
   "id": "8d6fbe8d",
   "metadata": {
    "execution": {
     "iopub.execute_input": "2021-12-03T05:51:53.494222Z",
     "iopub.status.busy": "2021-12-03T05:51:53.493504Z",
     "iopub.status.idle": "2021-12-03T05:51:53.504743Z",
     "shell.execute_reply": "2021-12-03T05:51:53.505425Z",
     "shell.execute_reply.started": "2021-12-03T05:51:26.191720Z"
    },
    "papermill": {
     "duration": 0.046092,
     "end_time": "2021-12-03T05:51:53.505607",
     "exception": false,
     "start_time": "2021-12-03T05:51:53.459515",
     "status": "completed"
    },
    "tags": []
   },
   "outputs": [
    {
     "data": {
      "text/plain": [
       "ID                     0\n",
       "Warehouse_block        0\n",
       "Mode_of_Shipment       0\n",
       "Customer_care_calls    0\n",
       "Customer_rating        0\n",
       "Cost_of_the_Product    0\n",
       "Prior_purchases        0\n",
       "Product_importance     0\n",
       "Gender                 0\n",
       "Discount_offered       0\n",
       "Weight_in_gms          0\n",
       "dtype: int64"
      ]
     },
     "execution_count": 6,
     "metadata": {},
     "output_type": "execute_result"
    }
   ],
   "source": [
    "# X_train 결측치 확인\n",
    "X_train.isnull().sum()"
   ]
  },
  {
   "cell_type": "code",
   "execution_count": 7,
   "id": "fdc44d02",
   "metadata": {
    "execution": {
     "iopub.execute_input": "2021-12-03T05:51:53.572144Z",
     "iopub.status.busy": "2021-12-03T05:51:53.571500Z",
     "iopub.status.idle": "2021-12-03T05:51:53.579433Z",
     "shell.execute_reply": "2021-12-03T05:51:53.579998Z",
     "shell.execute_reply.started": "2021-12-03T05:51:26.209714Z"
    },
    "papermill": {
     "duration": 0.042926,
     "end_time": "2021-12-03T05:51:53.580186",
     "exception": false,
     "start_time": "2021-12-03T05:51:53.537260",
     "status": "completed"
    },
    "tags": []
   },
   "outputs": [
    {
     "data": {
      "text/plain": [
       "ID                     0\n",
       "Warehouse_block        0\n",
       "Mode_of_Shipment       0\n",
       "Customer_care_calls    0\n",
       "Customer_rating        0\n",
       "Cost_of_the_Product    0\n",
       "Prior_purchases        0\n",
       "Product_importance     0\n",
       "Gender                 0\n",
       "Discount_offered       0\n",
       "Weight_in_gms          0\n",
       "dtype: int64"
      ]
     },
     "execution_count": 7,
     "metadata": {},
     "output_type": "execute_result"
    }
   ],
   "source": [
    "# X_test 결측치 확인\n",
    "X_test.isnull().sum()"
   ]
  },
  {
   "cell_type": "code",
   "execution_count": 8,
   "id": "5e4ee8d8",
   "metadata": {
    "execution": {
     "iopub.execute_input": "2021-12-03T05:51:53.647453Z",
     "iopub.status.busy": "2021-12-03T05:51:53.646663Z",
     "iopub.status.idle": "2021-12-03T05:51:53.666377Z",
     "shell.execute_reply": "2021-12-03T05:51:53.666879Z",
     "shell.execute_reply.started": "2021-12-03T05:51:26.221628Z"
    },
    "papermill": {
     "duration": 0.054773,
     "end_time": "2021-12-03T05:51:53.667131",
     "exception": false,
     "start_time": "2021-12-03T05:51:53.612358",
     "status": "completed"
    },
    "tags": []
   },
   "outputs": [
    {
     "name": "stdout",
     "output_type": "stream",
     "text": [
      "<class 'pandas.core.frame.DataFrame'>\n",
      "Int64Index: 8799 entries, 3999 to 9332\n",
      "Data columns (total 11 columns):\n",
      " #   Column               Non-Null Count  Dtype \n",
      "---  ------               --------------  ----- \n",
      " 0   ID                   8799 non-null   int64 \n",
      " 1   Warehouse_block      8799 non-null   object\n",
      " 2   Mode_of_Shipment     8799 non-null   object\n",
      " 3   Customer_care_calls  8799 non-null   int64 \n",
      " 4   Customer_rating      8799 non-null   int64 \n",
      " 5   Cost_of_the_Product  8799 non-null   int64 \n",
      " 6   Prior_purchases      8799 non-null   int64 \n",
      " 7   Product_importance   8799 non-null   object\n",
      " 8   Gender               8799 non-null   object\n",
      " 9   Discount_offered     8799 non-null   int64 \n",
      " 10  Weight_in_gms        8799 non-null   int64 \n",
      "dtypes: int64(7), object(4)\n",
      "memory usage: 824.9+ KB\n"
     ]
    }
   ],
   "source": [
    "# 데이터 타입 확인\n",
    "X_train.info()"
   ]
  },
  {
   "cell_type": "code",
   "execution_count": 9,
   "id": "196b63fa",
   "metadata": {
    "execution": {
     "iopub.execute_input": "2021-12-03T05:51:53.737699Z",
     "iopub.status.busy": "2021-12-03T05:51:53.737033Z",
     "iopub.status.idle": "2021-12-03T05:51:53.746896Z",
     "shell.execute_reply": "2021-12-03T05:51:53.747471Z",
     "shell.execute_reply.started": "2021-12-03T05:51:26.243138Z"
    },
    "papermill": {
     "duration": 0.048261,
     "end_time": "2021-12-03T05:51:53.747641",
     "exception": false,
     "start_time": "2021-12-03T05:51:53.699380",
     "status": "completed"
    },
    "tags": []
   },
   "outputs": [
    {
     "data": {
      "text/plain": [
       "Warehouse_block       5\n",
       "Mode_of_Shipment      3\n",
       "Product_importance    3\n",
       "Gender                2\n",
       "dtype: int64"
      ]
     },
     "execution_count": 9,
     "metadata": {},
     "output_type": "execute_result"
    }
   ],
   "source": [
    "# object 타입 컬럼, 고유값 개수 확인\n",
    "X_train[['Warehouse_block', 'Mode_of_Shipment', 'Product_importance', 'Gender']].nunique()"
   ]
  },
  {
   "cell_type": "markdown",
   "id": "ba62a918",
   "metadata": {
    "papermill": {
     "duration": 0.032543,
     "end_time": "2021-12-03T05:51:53.813220",
     "exception": false,
     "start_time": "2021-12-03T05:51:53.780677",
     "status": "completed"
    },
    "tags": []
   },
   "source": [
    "## 데이터 전처리"
   ]
  },
  {
   "cell_type": "code",
   "execution_count": 10,
   "id": "f7da7b8e",
   "metadata": {
    "execution": {
     "iopub.execute_input": "2021-12-03T05:51:53.894399Z",
     "iopub.status.busy": "2021-12-03T05:51:53.893713Z",
     "iopub.status.idle": "2021-12-03T05:51:53.897763Z",
     "shell.execute_reply": "2021-12-03T05:51:53.897156Z",
     "shell.execute_reply.started": "2021-12-03T05:51:26.262487Z"
    },
    "papermill": {
     "duration": 0.052251,
     "end_time": "2021-12-03T05:51:53.897904",
     "exception": false,
     "start_time": "2021-12-03T05:51:53.845653",
     "status": "completed"
    },
    "tags": []
   },
   "outputs": [
    {
     "data": {
      "text/html": [
       "<div>\n",
       "<style scoped>\n",
       "    .dataframe tbody tr th:only-of-type {\n",
       "        vertical-align: middle;\n",
       "    }\n",
       "\n",
       "    .dataframe tbody tr th {\n",
       "        vertical-align: top;\n",
       "    }\n",
       "\n",
       "    .dataframe thead th {\n",
       "        text-align: right;\n",
       "    }\n",
       "</style>\n",
       "<table border=\"1\" class=\"dataframe\">\n",
       "  <thead>\n",
       "    <tr style=\"text-align: right;\">\n",
       "      <th></th>\n",
       "      <th>ID</th>\n",
       "      <th>Customer_care_calls</th>\n",
       "      <th>Customer_rating</th>\n",
       "      <th>Cost_of_the_Product</th>\n",
       "      <th>Prior_purchases</th>\n",
       "      <th>Discount_offered</th>\n",
       "      <th>Weight_in_gms</th>\n",
       "    </tr>\n",
       "  </thead>\n",
       "  <tbody>\n",
       "    <tr>\n",
       "      <th>3999</th>\n",
       "      <td>4000</td>\n",
       "      <td>3</td>\n",
       "      <td>4</td>\n",
       "      <td>134</td>\n",
       "      <td>3</td>\n",
       "      <td>6</td>\n",
       "      <td>5680</td>\n",
       "    </tr>\n",
       "    <tr>\n",
       "      <th>9559</th>\n",
       "      <td>9560</td>\n",
       "      <td>4</td>\n",
       "      <td>3</td>\n",
       "      <td>173</td>\n",
       "      <td>3</td>\n",
       "      <td>5</td>\n",
       "      <td>5331</td>\n",
       "    </tr>\n",
       "    <tr>\n",
       "      <th>2649</th>\n",
       "      <td>2650</td>\n",
       "      <td>2</td>\n",
       "      <td>1</td>\n",
       "      <td>192</td>\n",
       "      <td>3</td>\n",
       "      <td>46</td>\n",
       "      <td>3206</td>\n",
       "    </tr>\n",
       "    <tr>\n",
       "      <th>4843</th>\n",
       "      <td>4844</td>\n",
       "      <td>6</td>\n",
       "      <td>5</td>\n",
       "      <td>284</td>\n",
       "      <td>4</td>\n",
       "      <td>8</td>\n",
       "      <td>5346</td>\n",
       "    </tr>\n",
       "    <tr>\n",
       "      <th>9601</th>\n",
       "      <td>9602</td>\n",
       "      <td>3</td>\n",
       "      <td>1</td>\n",
       "      <td>246</td>\n",
       "      <td>3</td>\n",
       "      <td>10</td>\n",
       "      <td>4707</td>\n",
       "    </tr>\n",
       "    <tr>\n",
       "      <th>...</th>\n",
       "      <td>...</td>\n",
       "      <td>...</td>\n",
       "      <td>...</td>\n",
       "      <td>...</td>\n",
       "      <td>...</td>\n",
       "      <td>...</td>\n",
       "      <td>...</td>\n",
       "    </tr>\n",
       "    <tr>\n",
       "      <th>3934</th>\n",
       "      <td>3935</td>\n",
       "      <td>6</td>\n",
       "      <td>5</td>\n",
       "      <td>178</td>\n",
       "      <td>3</td>\n",
       "      <td>5</td>\n",
       "      <td>4096</td>\n",
       "    </tr>\n",
       "    <tr>\n",
       "      <th>2669</th>\n",
       "      <td>2670</td>\n",
       "      <td>3</td>\n",
       "      <td>1</td>\n",
       "      <td>206</td>\n",
       "      <td>2</td>\n",
       "      <td>56</td>\n",
       "      <td>2069</td>\n",
       "    </tr>\n",
       "    <tr>\n",
       "      <th>1152</th>\n",
       "      <td>1153</td>\n",
       "      <td>4</td>\n",
       "      <td>1</td>\n",
       "      <td>135</td>\n",
       "      <td>10</td>\n",
       "      <td>35</td>\n",
       "      <td>1989</td>\n",
       "    </tr>\n",
       "    <tr>\n",
       "      <th>6201</th>\n",
       "      <td>6202</td>\n",
       "      <td>4</td>\n",
       "      <td>4</td>\n",
       "      <td>251</td>\n",
       "      <td>2</td>\n",
       "      <td>6</td>\n",
       "      <td>4376</td>\n",
       "    </tr>\n",
       "    <tr>\n",
       "      <th>9332</th>\n",
       "      <td>9333</td>\n",
       "      <td>6</td>\n",
       "      <td>4</td>\n",
       "      <td>144</td>\n",
       "      <td>4</td>\n",
       "      <td>5</td>\n",
       "      <td>4631</td>\n",
       "    </tr>\n",
       "  </tbody>\n",
       "</table>\n",
       "<p>8799 rows × 7 columns</p>\n",
       "</div>"
      ],
      "text/plain": [
       "        ID  Customer_care_calls  Customer_rating  Cost_of_the_Product  \\\n",
       "3999  4000                    3                4                  134   \n",
       "9559  9560                    4                3                  173   \n",
       "2649  2650                    2                1                  192   \n",
       "4843  4844                    6                5                  284   \n",
       "9601  9602                    3                1                  246   \n",
       "...    ...                  ...              ...                  ...   \n",
       "3934  3935                    6                5                  178   \n",
       "2669  2670                    3                1                  206   \n",
       "1152  1153                    4                1                  135   \n",
       "6201  6202                    4                4                  251   \n",
       "9332  9333                    6                4                  144   \n",
       "\n",
       "      Prior_purchases  Discount_offered  Weight_in_gms  \n",
       "3999                3                 6           5680  \n",
       "9559                3                 5           5331  \n",
       "2649                3                46           3206  \n",
       "4843                4                 8           5346  \n",
       "9601                3                10           4707  \n",
       "...               ...               ...            ...  \n",
       "3934                3                 5           4096  \n",
       "2669                2                56           2069  \n",
       "1152               10                35           1989  \n",
       "6201                2                 6           4376  \n",
       "9332                4                 5           4631  \n",
       "\n",
       "[8799 rows x 7 columns]"
      ]
     },
     "execution_count": 10,
     "metadata": {},
     "output_type": "execute_result"
    }
   ],
   "source": [
    "# object 컬럼 삭제 (또는 라벨인코딩, 원핫인코딩)\n",
    "X_train = X_train.drop(['Warehouse_block', 'Mode_of_Shipment', 'Product_importance', 'Gender'], axis=1)\n",
    "X_test = X_test.drop(['Warehouse_block', 'Mode_of_Shipment', 'Product_importance', 'Gender'], axis=1)\n",
    "X_train"
   ]
  },
  {
   "cell_type": "markdown",
   "id": "fb9ca46b",
   "metadata": {
    "papermill": {
     "duration": 0.032926,
     "end_time": "2021-12-03T05:51:53.965004",
     "exception": false,
     "start_time": "2021-12-03T05:51:53.932078",
     "status": "completed"
    },
    "tags": []
   },
   "source": [
    "## 모델 및 평가"
   ]
  },
  {
   "cell_type": "code",
   "execution_count": 11,
   "id": "fa2585c3",
   "metadata": {
    "execution": {
     "iopub.execute_input": "2021-12-03T05:51:54.034880Z",
     "iopub.status.busy": "2021-12-03T05:51:54.034263Z",
     "iopub.status.idle": "2021-12-03T05:51:54.304633Z",
     "shell.execute_reply": "2021-12-03T05:51:54.303829Z",
     "shell.execute_reply.started": "2021-12-03T05:51:26.281871Z"
    },
    "papermill": {
     "duration": 0.306686,
     "end_time": "2021-12-03T05:51:54.304791",
     "exception": false,
     "start_time": "2021-12-03T05:51:53.998105",
     "status": "completed"
    },
    "tags": []
   },
   "outputs": [],
   "source": [
    "from sklearn.linear_model import LogisticRegression\n",
    "from sklearn.neighbors import KNeighborsClassifier\n",
    "from sklearn.svm import SVC\n",
    "from sklearn.tree import DecisionTreeClassifier\n",
    "from sklearn.ensemble import RandomForestClassifier\n",
    "from xgboost import XGBClassifier"
   ]
  },
  {
   "cell_type": "code",
   "execution_count": 12,
   "id": "190b39ff",
   "metadata": {
    "execution": {
     "iopub.execute_input": "2021-12-03T05:51:54.380623Z",
     "iopub.status.busy": "2021-12-03T05:51:54.379540Z",
     "iopub.status.idle": "2021-12-03T05:51:54.381468Z",
     "shell.execute_reply": "2021-12-03T05:51:54.381989Z",
     "shell.execute_reply.started": "2021-12-03T05:51:26.290843Z"
    },
    "papermill": {
     "duration": 0.043547,
     "end_time": "2021-12-03T05:51:54.382241",
     "exception": false,
     "start_time": "2021-12-03T05:51:54.338694",
     "status": "completed"
    },
    "tags": []
   },
   "outputs": [],
   "source": [
    "X_train_id = X_train.pop('ID')\n",
    "X_test_id = X_test.pop('ID')"
   ]
  },
  {
   "cell_type": "code",
   "execution_count": 13,
   "id": "a1a58a08",
   "metadata": {
    "execution": {
     "iopub.execute_input": "2021-12-03T05:51:54.453955Z",
     "iopub.status.busy": "2021-12-03T05:51:54.453026Z",
     "iopub.status.idle": "2021-12-03T05:51:54.461679Z",
     "shell.execute_reply": "2021-12-03T05:51:54.461033Z",
     "shell.execute_reply.started": "2021-12-03T05:51:26.305517Z"
    },
    "papermill": {
     "duration": 0.045512,
     "end_time": "2021-12-03T05:51:54.461833",
     "exception": false,
     "start_time": "2021-12-03T05:51:54.416321",
     "status": "completed"
    },
    "tags": []
   },
   "outputs": [],
   "source": [
    "from sklearn.model_selection import train_test_split\n",
    "X_tr,X_val,y_tr,y_val = train_test_split(X_train,y_train['Reached.on.Time_Y.N'],test_size=0.2,random_state=2021)"
   ]
  },
  {
   "cell_type": "code",
   "execution_count": 14,
   "id": "1ef2de65",
   "metadata": {
    "execution": {
     "iopub.execute_input": "2021-12-03T05:51:54.535233Z",
     "iopub.status.busy": "2021-12-03T05:51:54.534095Z",
     "iopub.status.idle": "2021-12-03T05:51:54.645248Z",
     "shell.execute_reply": "2021-12-03T05:51:54.646256Z",
     "shell.execute_reply.started": "2021-12-03T05:51:26.319369Z"
    },
    "papermill": {
     "duration": 0.151716,
     "end_time": "2021-12-03T05:51:54.646526",
     "exception": false,
     "start_time": "2021-12-03T05:51:54.494810",
     "status": "completed"
    },
    "tags": []
   },
   "outputs": [
    {
     "data": {
      "text/plain": [
       "63.86"
      ]
     },
     "execution_count": 14,
     "metadata": {},
     "output_type": "execute_result"
    }
   ],
   "source": [
    "model = LogisticRegression()\n",
    "model.fit(X_tr, y_tr)\n",
    "round(model.score(X_val, y_val) * 100, 2)"
   ]
  },
  {
   "cell_type": "code",
   "execution_count": 15,
   "id": "a1dd1af1",
   "metadata": {
    "execution": {
     "iopub.execute_input": "2021-12-03T05:51:54.770407Z",
     "iopub.status.busy": "2021-12-03T05:51:54.766362Z",
     "iopub.status.idle": "2021-12-03T05:51:54.851086Z",
     "shell.execute_reply": "2021-12-03T05:51:54.851612Z",
     "shell.execute_reply.started": "2021-12-03T05:51:26.427401Z"
    },
    "papermill": {
     "duration": 0.145455,
     "end_time": "2021-12-03T05:51:54.851816",
     "exception": false,
     "start_time": "2021-12-03T05:51:54.706361",
     "status": "completed"
    },
    "tags": []
   },
   "outputs": [
    {
     "data": {
      "text/plain": [
       "65.97"
      ]
     },
     "execution_count": 15,
     "metadata": {},
     "output_type": "execute_result"
    }
   ],
   "source": [
    "model = KNeighborsClassifier()\n",
    "model.fit(X_tr, y_tr)\n",
    "round(model.score(X_val, y_val) * 100, 2)"
   ]
  },
  {
   "cell_type": "code",
   "execution_count": 16,
   "id": "20becba8",
   "metadata": {
    "execution": {
     "iopub.execute_input": "2021-12-03T05:51:54.927469Z",
     "iopub.status.busy": "2021-12-03T05:51:54.923992Z",
     "iopub.status.idle": "2021-12-03T05:51:57.268645Z",
     "shell.execute_reply": "2021-12-03T05:51:57.269198Z",
     "shell.execute_reply.started": "2021-12-03T05:51:26.558999Z"
    },
    "papermill": {
     "duration": 2.383369,
     "end_time": "2021-12-03T05:51:57.269413",
     "exception": false,
     "start_time": "2021-12-03T05:51:54.886044",
     "status": "completed"
    },
    "tags": []
   },
   "outputs": [
    {
     "data": {
      "text/plain": [
       "65.4"
      ]
     },
     "execution_count": 16,
     "metadata": {},
     "output_type": "execute_result"
    }
   ],
   "source": [
    "model = SVC()\n",
    "model.fit(X_tr, y_tr)\n",
    "round(model.score(X_val, y_val) * 100, 2)"
   ]
  },
  {
   "cell_type": "code",
   "execution_count": 17,
   "id": "44238bad",
   "metadata": {
    "execution": {
     "iopub.execute_input": "2021-12-03T05:51:57.344006Z",
     "iopub.status.busy": "2021-12-03T05:51:57.343248Z",
     "iopub.status.idle": "2021-12-03T05:51:57.381968Z",
     "shell.execute_reply": "2021-12-03T05:51:57.382498Z",
     "shell.execute_reply.started": "2021-12-03T05:51:28.891205Z"
    },
    "papermill": {
     "duration": 0.077844,
     "end_time": "2021-12-03T05:51:57.382703",
     "exception": false,
     "start_time": "2021-12-03T05:51:57.304859",
     "status": "completed"
    },
    "tags": []
   },
   "outputs": [
    {
     "data": {
      "text/plain": [
       "64.55"
      ]
     },
     "execution_count": 17,
     "metadata": {},
     "output_type": "execute_result"
    }
   ],
   "source": [
    "model = DecisionTreeClassifier()\n",
    "model.fit(X_tr, y_tr)\n",
    "round(model.score(X_val, y_val) * 100, 2)"
   ]
  },
  {
   "cell_type": "code",
   "execution_count": 18,
   "id": "66966f70",
   "metadata": {
    "execution": {
     "iopub.execute_input": "2021-12-03T05:51:57.460163Z",
     "iopub.status.busy": "2021-12-03T05:51:57.459437Z",
     "iopub.status.idle": "2021-12-03T05:51:58.401825Z",
     "shell.execute_reply": "2021-12-03T05:51:58.402338Z",
     "shell.execute_reply.started": "2021-12-03T05:51:28.929733Z"
    },
    "papermill": {
     "duration": 0.985039,
     "end_time": "2021-12-03T05:51:58.402557",
     "exception": false,
     "start_time": "2021-12-03T05:51:57.417518",
     "status": "completed"
    },
    "tags": []
   },
   "outputs": [
    {
     "data": {
      "text/plain": [
       "64.94"
      ]
     },
     "execution_count": 18,
     "metadata": {},
     "output_type": "execute_result"
    }
   ],
   "source": [
    "model = RandomForestClassifier(n_estimators=100)\n",
    "model.fit(X_tr, y_tr)\n",
    "round(model.score(X_val, y_val) * 100, 2)"
   ]
  },
  {
   "cell_type": "code",
   "execution_count": 19,
   "id": "ad63790f",
   "metadata": {
    "execution": {
     "iopub.execute_input": "2021-12-03T05:51:58.478910Z",
     "iopub.status.busy": "2021-12-03T05:51:58.477873Z",
     "iopub.status.idle": "2021-12-03T05:51:58.886588Z",
     "shell.execute_reply": "2021-12-03T05:51:58.887609Z",
     "shell.execute_reply.started": "2021-12-03T05:51:29.831181Z"
    },
    "papermill": {
     "duration": 0.449363,
     "end_time": "2021-12-03T05:51:58.887866",
     "exception": false,
     "start_time": "2021-12-03T05:51:58.438503",
     "status": "completed"
    },
    "tags": []
   },
   "outputs": [
    {
     "data": {
      "text/plain": [
       "65.51"
      ]
     },
     "execution_count": 19,
     "metadata": {},
     "output_type": "execute_result"
    }
   ],
   "source": [
    "model = XGBClassifier(eval_metric='mlogloss', use_label_encoder=False)\n",
    "model.fit(X_tr, y_tr)\n",
    "round(model.score(X_val, y_val) * 100, 2)"
   ]
  },
  {
   "cell_type": "markdown",
   "id": "5cacbfbb",
   "metadata": {
    "papermill": {
     "duration": 0.035537,
     "end_time": "2021-12-03T05:51:58.960748",
     "exception": false,
     "start_time": "2021-12-03T05:51:58.925211",
     "status": "completed"
    },
    "tags": []
   },
   "source": [
    "## 모델 선택 및 결과 출력"
   ]
  },
  {
   "cell_type": "code",
   "execution_count": 20,
   "id": "9676800f",
   "metadata": {
    "execution": {
     "iopub.execute_input": "2021-12-03T05:51:59.040600Z",
     "iopub.status.busy": "2021-12-03T05:51:59.038160Z",
     "iopub.status.idle": "2021-12-03T05:51:59.141285Z",
     "shell.execute_reply": "2021-12-03T05:51:59.140594Z",
     "shell.execute_reply.started": "2021-12-03T05:51:30.286959Z"
    },
    "papermill": {
     "duration": 0.145058,
     "end_time": "2021-12-03T05:51:59.141459",
     "exception": false,
     "start_time": "2021-12-03T05:51:58.996401",
     "status": "completed"
    },
    "tags": []
   },
   "outputs": [
    {
     "data": {
      "text/plain": [
       "array([1, 1, 0, ..., 1, 1, 0])"
      ]
     },
     "execution_count": 20,
     "metadata": {},
     "output_type": "execute_result"
    }
   ],
   "source": [
    "model = KNeighborsClassifier()\n",
    "model.fit(X_train, y_train['Reached.on.Time_Y.N'])\n",
    "pred = model.predict(X_test)\n",
    "pred"
   ]
  },
  {
   "cell_type": "code",
   "execution_count": 21,
   "id": "8f580ff1",
   "metadata": {
    "execution": {
     "iopub.execute_input": "2021-12-03T05:51:59.223020Z",
     "iopub.status.busy": "2021-12-03T05:51:59.222317Z",
     "iopub.status.idle": "2021-12-03T05:51:59.224349Z",
     "shell.execute_reply": "2021-12-03T05:51:59.225122Z",
     "shell.execute_reply.started": "2021-12-03T05:51:30.368516Z"
    },
    "papermill": {
     "duration": 0.046969,
     "end_time": "2021-12-03T05:51:59.225351",
     "exception": false,
     "start_time": "2021-12-03T05:51:59.178382",
     "status": "completed"
    },
    "tags": []
   },
   "outputs": [],
   "source": [
    "submission = pd.DataFrame({\n",
    "        \"ID\": X_test_id,\n",
    "        \"Reached.on.Time_Y.N\": pred\n",
    "    })"
   ]
  },
  {
   "cell_type": "code",
   "execution_count": 22,
   "id": "ddcb4bf9",
   "metadata": {
    "execution": {
     "iopub.execute_input": "2021-12-03T05:51:59.303524Z",
     "iopub.status.busy": "2021-12-03T05:51:59.302467Z",
     "iopub.status.idle": "2021-12-03T05:51:59.312149Z",
     "shell.execute_reply": "2021-12-03T05:51:59.312683Z",
     "shell.execute_reply.started": "2021-12-03T05:51:30.374803Z"
    },
    "papermill": {
     "duration": 0.050033,
     "end_time": "2021-12-03T05:51:59.312886",
     "exception": false,
     "start_time": "2021-12-03T05:51:59.262853",
     "status": "completed"
    },
    "tags": []
   },
   "outputs": [
    {
     "data": {
      "text/html": [
       "<div>\n",
       "<style scoped>\n",
       "    .dataframe tbody tr th:only-of-type {\n",
       "        vertical-align: middle;\n",
       "    }\n",
       "\n",
       "    .dataframe tbody tr th {\n",
       "        vertical-align: top;\n",
       "    }\n",
       "\n",
       "    .dataframe thead th {\n",
       "        text-align: right;\n",
       "    }\n",
       "</style>\n",
       "<table border=\"1\" class=\"dataframe\">\n",
       "  <thead>\n",
       "    <tr style=\"text-align: right;\">\n",
       "      <th></th>\n",
       "      <th>ID</th>\n",
       "      <th>Reached.on.Time_Y.N</th>\n",
       "    </tr>\n",
       "  </thead>\n",
       "  <tbody>\n",
       "    <tr>\n",
       "      <th>4732</th>\n",
       "      <td>4733</td>\n",
       "      <td>1</td>\n",
       "    </tr>\n",
       "    <tr>\n",
       "      <th>2039</th>\n",
       "      <td>2040</td>\n",
       "      <td>1</td>\n",
       "    </tr>\n",
       "    <tr>\n",
       "      <th>5113</th>\n",
       "      <td>5114</td>\n",
       "      <td>0</td>\n",
       "    </tr>\n",
       "    <tr>\n",
       "      <th>2360</th>\n",
       "      <td>2361</td>\n",
       "      <td>1</td>\n",
       "    </tr>\n",
       "    <tr>\n",
       "      <th>5995</th>\n",
       "      <td>5996</td>\n",
       "      <td>1</td>\n",
       "    </tr>\n",
       "  </tbody>\n",
       "</table>\n",
       "</div>"
      ],
      "text/plain": [
       "        ID  Reached.on.Time_Y.N\n",
       "4732  4733                    1\n",
       "2039  2040                    1\n",
       "5113  5114                    0\n",
       "2360  2361                    1\n",
       "5995  5996                    1"
      ]
     },
     "execution_count": 22,
     "metadata": {},
     "output_type": "execute_result"
    }
   ],
   "source": [
    "submission.head()"
   ]
  },
  {
   "cell_type": "code",
   "execution_count": 23,
   "id": "51655cec",
   "metadata": {
    "execution": {
     "iopub.execute_input": "2021-12-03T05:51:59.393008Z",
     "iopub.status.busy": "2021-12-03T05:51:59.392190Z",
     "iopub.status.idle": "2021-12-03T05:51:59.402519Z",
     "shell.execute_reply": "2021-12-03T05:51:59.403118Z",
     "shell.execute_reply.started": "2021-12-03T05:51:30.396202Z"
    },
    "papermill": {
     "duration": 0.053119,
     "end_time": "2021-12-03T05:51:59.403324",
     "exception": false,
     "start_time": "2021-12-03T05:51:59.350205",
     "status": "completed"
    },
    "tags": []
   },
   "outputs": [],
   "source": [
    "submission.to_csv('submission.csv', index=False)  ## 수험번호.csv"
   ]
  },
  {
   "cell_type": "markdown",
   "id": "b2f111a9",
   "metadata": {
    "papermill": {
     "duration": 0.036335,
     "end_time": "2021-12-03T05:51:59.476135",
     "exception": false,
     "start_time": "2021-12-03T05:51:59.439800",
     "status": "completed"
    },
    "tags": []
   },
   "source": [
    "## 결과 체점 (수험자는 알 수 없는 부분임)"
   ]
  },
  {
   "cell_type": "code",
   "execution_count": 24,
   "id": "642eb141",
   "metadata": {
    "execution": {
     "iopub.execute_input": "2021-12-03T05:51:59.552683Z",
     "iopub.status.busy": "2021-12-03T05:51:59.551711Z",
     "iopub.status.idle": "2021-12-03T05:51:59.642661Z",
     "shell.execute_reply": "2021-12-03T05:51:59.643177Z",
     "shell.execute_reply.started": "2021-12-03T05:51:30.409170Z"
    },
    "papermill": {
     "duration": 0.131109,
     "end_time": "2021-12-03T05:51:59.643377",
     "exception": false,
     "start_time": "2021-12-03T05:51:59.512268",
     "status": "completed"
    },
    "tags": []
   },
   "outputs": [
    {
     "data": {
      "text/plain": [
       "63.45"
      ]
     },
     "execution_count": 24,
     "metadata": {},
     "output_type": "execute_result"
    }
   ],
   "source": [
    "# 조금 떨어진 성능을 보여주고 있음\n",
    "round(model.score(X_test, y_test['Reached.on.Time_Y.N']) * 100, 2)"
   ]
  },
  {
   "cell_type": "code",
   "execution_count": null,
   "id": "4cd54c49",
   "metadata": {
    "papermill": {
     "duration": 0.036858,
     "end_time": "2021-12-03T05:51:59.716841",
     "exception": false,
     "start_time": "2021-12-03T05:51:59.679983",
     "status": "completed"
    },
    "tags": []
   },
   "outputs": [],
   "source": []
  }
 ],
 "metadata": {
  "kernelspec": {
   "display_name": "Python 3",
   "language": "python",
   "name": "python3"
  },
  "language_info": {
   "codemirror_mode": {
    "name": "ipython",
    "version": 3
   },
   "file_extension": ".py",
   "mimetype": "text/x-python",
   "name": "python",
   "nbconvert_exporter": "python",
   "pygments_lexer": "ipython3",
   "version": "3.7.10"
  },
  "papermill": {
   "default_parameters": {},
   "duration": 18.930605,
   "end_time": "2021-12-03T05:52:01.350713",
   "environment_variables": {},
   "exception": null,
   "input_path": "__notebook__.ipynb",
   "output_path": "__notebook__.ipynb",
   "parameters": {},
   "start_time": "2021-12-03T05:51:42.420108",
   "version": "2.3.3"
  }
 },
 "nbformat": 4,
 "nbformat_minor": 5
}
