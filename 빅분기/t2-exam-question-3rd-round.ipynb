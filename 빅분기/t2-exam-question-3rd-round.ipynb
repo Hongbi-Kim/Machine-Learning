{
 "cells": [
  {
   "cell_type": "code",
   "execution_count": 2,
   "id": "fc755736",
   "metadata": {
    "_cell_guid": "b1076dfc-b9ad-4769-8c92-a6c4dae69d19",
    "_uuid": "8f2839f25d086af736a60e9eeb907d3b93b6e0e5",
    "execution": {
     "iopub.execute_input": "2021-12-04T17:38:58.822152Z",
     "iopub.status.busy": "2021-12-04T17:38:58.821084Z",
     "iopub.status.idle": "2021-12-04T17:38:58.829690Z",
     "shell.execute_reply": "2021-12-04T17:38:58.830190Z",
     "shell.execute_reply.started": "2021-12-04T16:06:04.231665Z"
    },
    "papermill": {
     "duration": 0.030673,
     "end_time": "2021-12-04T17:38:58.830471",
     "exception": false,
     "start_time": "2021-12-04T17:38:58.799798",
     "status": "completed"
    },
    "tags": []
   },
   "outputs": [],
   "source": [
    "# 시험 제공용\n",
    "import pandas as pd\n",
    "# a = pd.read_csv(\"../input/traval-insurance-exam/train.csv\")\n",
    "# b = pd.read_csv('../input/traval-insurance-exam/test.csv')\n",
    "\n",
    "# pd.DataFrame(변수).to_csv('000000000.csv')\n",
    "\n",
    "# 보험가입 확률을 묻는 문제\n",
    "\n",
    "\n",
    "# 출력형태 \n",
    "# index,y_pred\n",
    "# 0,0.15246735144689827\n",
    "# 1,0.9615112924356346\n",
    "# 2,0.15131398160778645\n",
    "# 3,0.23663288296712173\n",
    "# 4,0.9385824940846587\n",
    "# 5,0.15738583559845978\n"
   ]
  },
  {
   "cell_type": "markdown",
   "id": "31b4140a",
   "metadata": {
    "papermill": {
     "duration": 0.016319,
     "end_time": "2021-12-04T17:38:58.865790",
     "exception": false,
     "start_time": "2021-12-04T17:38:58.849471",
     "status": "completed"
    },
    "tags": []
   },
   "source": [
    "## 풀이\n",
    "- 아래 풀이는 예시 일 뿐임"
   ]
  },
  {
   "cell_type": "code",
   "execution_count": 3,
   "id": "e344740b",
   "metadata": {
    "execution": {
     "iopub.execute_input": "2021-12-04T17:38:58.901772Z",
     "iopub.status.busy": "2021-12-04T17:38:58.901184Z",
     "iopub.status.idle": "2021-12-04T17:38:58.943171Z",
     "shell.execute_reply": "2021-12-04T17:38:58.943676Z",
     "shell.execute_reply.started": "2021-12-04T16:06:04.239743Z"
    },
    "papermill": {
     "duration": 0.061594,
     "end_time": "2021-12-04T17:38:58.943849",
     "exception": false,
     "start_time": "2021-12-04T17:38:58.882255",
     "status": "completed"
    },
    "tags": []
   },
   "outputs": [],
   "source": [
    "train = pd.read_csv('./data/3rd_TravelInsurancePrediction_train.csv')\n",
    "test = pd.read_csv('./data/3rd_TravelInsurancePrediction_test.csv')"
   ]
  },
  {
   "cell_type": "markdown",
   "id": "31d1b4a2",
   "metadata": {
    "papermill": {
     "duration": 0.016499,
     "end_time": "2021-12-04T17:38:58.977314",
     "exception": false,
     "start_time": "2021-12-04T17:38:58.960815",
     "status": "completed"
    },
    "tags": []
   },
   "source": [
    "## EDA"
   ]
  },
  {
   "cell_type": "code",
   "execution_count": 4,
   "id": "93f84252",
   "metadata": {
    "execution": {
     "iopub.execute_input": "2021-12-04T17:38:59.014401Z",
     "iopub.status.busy": "2021-12-04T17:38:59.013830Z",
     "iopub.status.idle": "2021-12-04T17:38:59.020579Z",
     "shell.execute_reply": "2021-12-04T17:38:59.020136Z",
     "shell.execute_reply.started": "2021-12-04T16:06:04.261385Z"
    },
    "papermill": {
     "duration": 0.026082,
     "end_time": "2021-12-04T17:38:59.020741",
     "exception": false,
     "start_time": "2021-12-04T17:38:58.994659",
     "status": "completed"
    },
    "tags": []
   },
   "outputs": [
    {
     "data": {
      "text/plain": [
       "((1501, 10), (486, 9))"
      ]
     },
     "execution_count": 4,
     "metadata": {},
     "output_type": "execute_result"
    }
   ],
   "source": [
    "# 크기 확인\n",
    "train.shape, test.shape"
   ]
  },
  {
   "cell_type": "code",
   "execution_count": 5,
   "id": "c86f0050",
   "metadata": {
    "execution": {
     "iopub.execute_input": "2021-12-04T17:38:59.058173Z",
     "iopub.status.busy": "2021-12-04T17:38:59.057561Z",
     "iopub.status.idle": "2021-12-04T17:38:59.082698Z",
     "shell.execute_reply": "2021-12-04T17:38:59.083102Z",
     "shell.execute_reply.started": "2021-12-04T16:06:04.268946Z"
    },
    "papermill": {
     "duration": 0.045248,
     "end_time": "2021-12-04T17:38:59.083267",
     "exception": false,
     "start_time": "2021-12-04T17:38:59.038019",
     "status": "completed"
    },
    "tags": []
   },
   "outputs": [
    {
     "name": "stdout",
     "output_type": "stream",
     "text": [
      "<class 'pandas.core.frame.DataFrame'>\n",
      "RangeIndex: 1501 entries, 0 to 1500\n",
      "Data columns (total 10 columns):\n",
      " #   Column               Non-Null Count  Dtype \n",
      "---  ------               --------------  ----- \n",
      " 0   ID                   1501 non-null   int64 \n",
      " 1   Age                  1501 non-null   int64 \n",
      " 2   Employment Type      1501 non-null   object\n",
      " 3   GraduateOrNot        1501 non-null   object\n",
      " 4   AnnualIncome         1501 non-null   int64 \n",
      " 5   FamilyMembers        1501 non-null   int64 \n",
      " 6   ChronicDiseases      1501 non-null   int64 \n",
      " 7   FrequentFlyer        1501 non-null   object\n",
      " 8   EverTravelledAbroad  1501 non-null   object\n",
      " 9   TravelInsurance      1501 non-null   int64 \n",
      "dtypes: int64(6), object(4)\n",
      "memory usage: 117.4+ KB\n"
     ]
    }
   ],
   "source": [
    "# 타입 확인\n",
    "train.info()"
   ]
  },
  {
   "cell_type": "code",
   "execution_count": 6,
   "id": "5c82a030",
   "metadata": {
    "execution": {
     "iopub.execute_input": "2021-12-04T17:38:59.120787Z",
     "iopub.status.busy": "2021-12-04T17:38:59.120182Z",
     "iopub.status.idle": "2021-12-04T17:38:59.126833Z",
     "shell.execute_reply": "2021-12-04T17:38:59.127351Z",
     "shell.execute_reply.started": "2021-12-04T16:06:04.290328Z"
    },
    "papermill": {
     "duration": 0.026714,
     "end_time": "2021-12-04T17:38:59.127510",
     "exception": false,
     "start_time": "2021-12-04T17:38:59.100796",
     "status": "completed"
    },
    "tags": []
   },
   "outputs": [
    {
     "data": {
      "text/plain": [
       "ID                     0\n",
       "Age                    0\n",
       "Employment Type        0\n",
       "GraduateOrNot          0\n",
       "AnnualIncome           0\n",
       "FamilyMembers          0\n",
       "ChronicDiseases        0\n",
       "FrequentFlyer          0\n",
       "EverTravelledAbroad    0\n",
       "TravelInsurance        0\n",
       "dtype: int64"
      ]
     },
     "execution_count": 6,
     "metadata": {},
     "output_type": "execute_result"
    }
   ],
   "source": [
    "# 결측치 확인\n",
    "train.isnull().sum()"
   ]
  },
  {
   "cell_type": "code",
   "execution_count": 7,
   "id": "0122a720",
   "metadata": {
    "execution": {
     "iopub.execute_input": "2021-12-04T17:38:59.165541Z",
     "iopub.status.busy": "2021-12-04T17:38:59.165002Z",
     "iopub.status.idle": "2021-12-04T17:38:59.171360Z",
     "shell.execute_reply": "2021-12-04T17:38:59.171923Z",
     "shell.execute_reply.started": "2021-12-04T16:06:04.312046Z"
    },
    "papermill": {
     "duration": 0.027038,
     "end_time": "2021-12-04T17:38:59.172084",
     "exception": false,
     "start_time": "2021-12-04T17:38:59.145046",
     "status": "completed"
    },
    "tags": []
   },
   "outputs": [
    {
     "data": {
      "text/plain": [
       "ID                     0\n",
       "Age                    0\n",
       "Employment Type        0\n",
       "GraduateOrNot          0\n",
       "AnnualIncome           0\n",
       "FamilyMembers          0\n",
       "ChronicDiseases        0\n",
       "FrequentFlyer          0\n",
       "EverTravelledAbroad    0\n",
       "dtype: int64"
      ]
     },
     "execution_count": 7,
     "metadata": {},
     "output_type": "execute_result"
    }
   ],
   "source": [
    "# 결측치 확인\n",
    "test.isnull().sum()"
   ]
  },
  {
   "cell_type": "code",
   "execution_count": 8,
   "id": "36c5ee93",
   "metadata": {
    "execution": {
     "iopub.execute_input": "2021-12-04T17:38:59.211550Z",
     "iopub.status.busy": "2021-12-04T17:38:59.210991Z",
     "iopub.status.idle": "2021-12-04T17:38:59.242181Z",
     "shell.execute_reply": "2021-12-04T17:38:59.241732Z",
     "shell.execute_reply.started": "2021-12-04T16:06:04.335015Z"
    },
    "papermill": {
     "duration": 0.0521,
     "end_time": "2021-12-04T17:38:59.242314",
     "exception": false,
     "start_time": "2021-12-04T17:38:59.190214",
     "status": "completed"
    },
    "tags": []
   },
   "outputs": [
    {
     "data": {
      "text/html": [
       "<div>\n",
       "<style scoped>\n",
       "    .dataframe tbody tr th:only-of-type {\n",
       "        vertical-align: middle;\n",
       "    }\n",
       "\n",
       "    .dataframe tbody tr th {\n",
       "        vertical-align: top;\n",
       "    }\n",
       "\n",
       "    .dataframe thead th {\n",
       "        text-align: right;\n",
       "    }\n",
       "</style>\n",
       "<table border=\"1\" class=\"dataframe\">\n",
       "  <thead>\n",
       "    <tr style=\"text-align: right;\">\n",
       "      <th></th>\n",
       "      <th>ID</th>\n",
       "      <th>Age</th>\n",
       "      <th>AnnualIncome</th>\n",
       "      <th>FamilyMembers</th>\n",
       "      <th>ChronicDiseases</th>\n",
       "      <th>TravelInsurance</th>\n",
       "    </tr>\n",
       "  </thead>\n",
       "  <tbody>\n",
       "    <tr>\n",
       "      <th>count</th>\n",
       "      <td>1501.000000</td>\n",
       "      <td>1501.000000</td>\n",
       "      <td>1.501000e+03</td>\n",
       "      <td>1501.000000</td>\n",
       "      <td>1501.000000</td>\n",
       "      <td>1501.000000</td>\n",
       "    </tr>\n",
       "    <tr>\n",
       "      <th>mean</th>\n",
       "      <td>750.000000</td>\n",
       "      <td>29.683544</td>\n",
       "      <td>9.355430e+05</td>\n",
       "      <td>4.768155</td>\n",
       "      <td>0.282478</td>\n",
       "      <td>0.363757</td>\n",
       "    </tr>\n",
       "    <tr>\n",
       "      <th>std</th>\n",
       "      <td>433.445691</td>\n",
       "      <td>2.920809</td>\n",
       "      <td>3.752655e+05</td>\n",
       "      <td>1.626718</td>\n",
       "      <td>0.450355</td>\n",
       "      <td>0.481240</td>\n",
       "    </tr>\n",
       "    <tr>\n",
       "      <th>min</th>\n",
       "      <td>0.000000</td>\n",
       "      <td>25.000000</td>\n",
       "      <td>3.000000e+05</td>\n",
       "      <td>2.000000</td>\n",
       "      <td>0.000000</td>\n",
       "      <td>0.000000</td>\n",
       "    </tr>\n",
       "    <tr>\n",
       "      <th>25%</th>\n",
       "      <td>375.000000</td>\n",
       "      <td>28.000000</td>\n",
       "      <td>6.000000e+05</td>\n",
       "      <td>4.000000</td>\n",
       "      <td>0.000000</td>\n",
       "      <td>0.000000</td>\n",
       "    </tr>\n",
       "    <tr>\n",
       "      <th>50%</th>\n",
       "      <td>750.000000</td>\n",
       "      <td>29.000000</td>\n",
       "      <td>9.000000e+05</td>\n",
       "      <td>5.000000</td>\n",
       "      <td>0.000000</td>\n",
       "      <td>0.000000</td>\n",
       "    </tr>\n",
       "    <tr>\n",
       "      <th>75%</th>\n",
       "      <td>1125.000000</td>\n",
       "      <td>32.000000</td>\n",
       "      <td>1.250000e+06</td>\n",
       "      <td>6.000000</td>\n",
       "      <td>1.000000</td>\n",
       "      <td>1.000000</td>\n",
       "    </tr>\n",
       "    <tr>\n",
       "      <th>max</th>\n",
       "      <td>1500.000000</td>\n",
       "      <td>35.000000</td>\n",
       "      <td>1.800000e+06</td>\n",
       "      <td>9.000000</td>\n",
       "      <td>1.000000</td>\n",
       "      <td>1.000000</td>\n",
       "    </tr>\n",
       "  </tbody>\n",
       "</table>\n",
       "</div>"
      ],
      "text/plain": [
       "                ID          Age  AnnualIncome  FamilyMembers  ChronicDiseases  \\\n",
       "count  1501.000000  1501.000000  1.501000e+03    1501.000000      1501.000000   \n",
       "mean    750.000000    29.683544  9.355430e+05       4.768155         0.282478   \n",
       "std     433.445691     2.920809  3.752655e+05       1.626718         0.450355   \n",
       "min       0.000000    25.000000  3.000000e+05       2.000000         0.000000   \n",
       "25%     375.000000    28.000000  6.000000e+05       4.000000         0.000000   \n",
       "50%     750.000000    29.000000  9.000000e+05       5.000000         0.000000   \n",
       "75%    1125.000000    32.000000  1.250000e+06       6.000000         1.000000   \n",
       "max    1500.000000    35.000000  1.800000e+06       9.000000         1.000000   \n",
       "\n",
       "       TravelInsurance  \n",
       "count      1501.000000  \n",
       "mean          0.363757  \n",
       "std           0.481240  \n",
       "min           0.000000  \n",
       "25%           0.000000  \n",
       "50%           0.000000  \n",
       "75%           1.000000  \n",
       "max           1.000000  "
      ]
     },
     "execution_count": 8,
     "metadata": {},
     "output_type": "execute_result"
    }
   ],
   "source": [
    "train.describe()"
   ]
  },
  {
   "cell_type": "code",
   "execution_count": 9,
   "id": "c8a15ea5",
   "metadata": {
    "execution": {
     "iopub.execute_input": "2021-12-04T17:38:59.286800Z",
     "iopub.status.busy": "2021-12-04T17:38:59.285965Z",
     "iopub.status.idle": "2021-12-04T17:38:59.289183Z",
     "shell.execute_reply": "2021-12-04T17:38:59.289640Z",
     "shell.execute_reply.started": "2021-12-04T16:06:04.367407Z"
    },
    "papermill": {
     "duration": 0.029005,
     "end_time": "2021-12-04T17:38:59.289810",
     "exception": false,
     "start_time": "2021-12-04T17:38:59.260805",
     "status": "completed"
    },
    "tags": []
   },
   "outputs": [
    {
     "data": {
      "text/plain": [
       "0    955\n",
       "1    546\n",
       "Name: TravelInsurance, dtype: int64"
      ]
     },
     "execution_count": 9,
     "metadata": {},
     "output_type": "execute_result"
    }
   ],
   "source": [
    "train['TravelInsurance'].value_counts()"
   ]
  },
  {
   "cell_type": "markdown",
   "id": "dc0360e5",
   "metadata": {
    "papermill": {
     "duration": 0.02494,
     "end_time": "2021-12-04T17:38:59.334062",
     "exception": false,
     "start_time": "2021-12-04T17:38:59.309122",
     "status": "completed"
    },
    "tags": []
   },
   "source": [
    "## 데이터 전처리"
   ]
  },
  {
   "cell_type": "code",
   "execution_count": 15,
   "id": "451c6068",
   "metadata": {
    "execution": {
     "iopub.execute_input": "2021-12-04T17:38:59.389208Z",
     "iopub.status.busy": "2021-12-04T17:38:59.388234Z",
     "iopub.status.idle": "2021-12-04T17:38:59.400138Z",
     "shell.execute_reply": "2021-12-04T17:38:59.400847Z",
     "shell.execute_reply.started": "2021-12-04T16:06:04.376321Z"
    },
    "papermill": {
     "duration": 0.044648,
     "end_time": "2021-12-04T17:38:59.401028",
     "exception": false,
     "start_time": "2021-12-04T17:38:59.356380",
     "status": "completed"
    },
    "tags": []
   },
   "outputs": [],
   "source": [
    "# 수치형 데이터와 범주형 데이터 분리 \n",
    "n_train = train.select_dtypes(exclude='object').copy()\n",
    "c_train = train.select_dtypes(include='object').copy()\n",
    "n_test = test.select_dtypes(exclude='object').copy()\n",
    "c_test = test.select_dtypes(include='object').copy()"
   ]
  },
  {
   "cell_type": "code",
   "execution_count": 16,
   "id": "0c47b926",
   "metadata": {
    "execution": {
     "iopub.execute_input": "2021-12-04T17:38:59.456179Z",
     "iopub.status.busy": "2021-12-04T17:38:59.455412Z",
     "iopub.status.idle": "2021-12-04T17:39:00.386449Z",
     "shell.execute_reply": "2021-12-04T17:39:00.387009Z",
     "shell.execute_reply.started": "2021-12-04T16:06:04.391213Z"
    },
    "papermill": {
     "duration": 0.95763,
     "end_time": "2021-12-04T17:39:00.387174",
     "exception": false,
     "start_time": "2021-12-04T17:38:59.429544",
     "status": "completed"
    },
    "tags": []
   },
   "outputs": [
    {
     "data": {
      "text/html": [
       "<div>\n",
       "<style scoped>\n",
       "    .dataframe tbody tr th:only-of-type {\n",
       "        vertical-align: middle;\n",
       "    }\n",
       "\n",
       "    .dataframe tbody tr th {\n",
       "        vertical-align: top;\n",
       "    }\n",
       "\n",
       "    .dataframe thead th {\n",
       "        text-align: right;\n",
       "    }\n",
       "</style>\n",
       "<table border=\"1\" class=\"dataframe\">\n",
       "  <thead>\n",
       "    <tr style=\"text-align: right;\">\n",
       "      <th></th>\n",
       "      <th>ID</th>\n",
       "      <th>Age</th>\n",
       "      <th>AnnualIncome</th>\n",
       "      <th>FamilyMembers</th>\n",
       "      <th>ChronicDiseases</th>\n",
       "      <th>TravelInsurance</th>\n",
       "    </tr>\n",
       "  </thead>\n",
       "  <tbody>\n",
       "    <tr>\n",
       "      <th>0</th>\n",
       "      <td>0</td>\n",
       "      <td>31</td>\n",
       "      <td>400000</td>\n",
       "      <td>6</td>\n",
       "      <td>1</td>\n",
       "      <td>0</td>\n",
       "    </tr>\n",
       "    <tr>\n",
       "      <th>1</th>\n",
       "      <td>1</td>\n",
       "      <td>31</td>\n",
       "      <td>1250000</td>\n",
       "      <td>7</td>\n",
       "      <td>0</td>\n",
       "      <td>0</td>\n",
       "    </tr>\n",
       "    <tr>\n",
       "      <th>2</th>\n",
       "      <td>2</td>\n",
       "      <td>34</td>\n",
       "      <td>500000</td>\n",
       "      <td>4</td>\n",
       "      <td>1</td>\n",
       "      <td>1</td>\n",
       "    </tr>\n",
       "    <tr>\n",
       "      <th>3</th>\n",
       "      <td>3</td>\n",
       "      <td>28</td>\n",
       "      <td>700000</td>\n",
       "      <td>3</td>\n",
       "      <td>1</td>\n",
       "      <td>0</td>\n",
       "    </tr>\n",
       "    <tr>\n",
       "      <th>4</th>\n",
       "      <td>4</td>\n",
       "      <td>28</td>\n",
       "      <td>700000</td>\n",
       "      <td>8</td>\n",
       "      <td>1</td>\n",
       "      <td>0</td>\n",
       "    </tr>\n",
       "  </tbody>\n",
       "</table>\n",
       "</div>"
      ],
      "text/plain": [
       "   ID  Age  AnnualIncome  FamilyMembers  ChronicDiseases  TravelInsurance\n",
       "0   0   31        400000              6                1                0\n",
       "1   1   31       1250000              7                0                0\n",
       "2   2   34        500000              4                1                1\n",
       "3   3   28        700000              3                1                0\n",
       "4   4   28        700000              8                1                0"
      ]
     },
     "metadata": {},
     "output_type": "display_data"
    },
    {
     "data": {
      "text/html": [
       "<div>\n",
       "<style scoped>\n",
       "    .dataframe tbody tr th:only-of-type {\n",
       "        vertical-align: middle;\n",
       "    }\n",
       "\n",
       "    .dataframe tbody tr th {\n",
       "        vertical-align: top;\n",
       "    }\n",
       "\n",
       "    .dataframe thead th {\n",
       "        text-align: right;\n",
       "    }\n",
       "</style>\n",
       "<table border=\"1\" class=\"dataframe\">\n",
       "  <thead>\n",
       "    <tr style=\"text-align: right;\">\n",
       "      <th></th>\n",
       "      <th>ID</th>\n",
       "      <th>Age</th>\n",
       "      <th>AnnualIncome</th>\n",
       "      <th>FamilyMembers</th>\n",
       "      <th>ChronicDiseases</th>\n",
       "      <th>TravelInsurance</th>\n",
       "    </tr>\n",
       "  </thead>\n",
       "  <tbody>\n",
       "    <tr>\n",
       "      <th>0</th>\n",
       "      <td>0</td>\n",
       "      <td>0.50</td>\n",
       "      <td>-0.769231</td>\n",
       "      <td>0.5</td>\n",
       "      <td>1.0</td>\n",
       "      <td>0</td>\n",
       "    </tr>\n",
       "    <tr>\n",
       "      <th>1</th>\n",
       "      <td>1</td>\n",
       "      <td>0.50</td>\n",
       "      <td>0.538462</td>\n",
       "      <td>1.0</td>\n",
       "      <td>0.0</td>\n",
       "      <td>0</td>\n",
       "    </tr>\n",
       "    <tr>\n",
       "      <th>2</th>\n",
       "      <td>2</td>\n",
       "      <td>1.25</td>\n",
       "      <td>-0.615385</td>\n",
       "      <td>-0.5</td>\n",
       "      <td>1.0</td>\n",
       "      <td>1</td>\n",
       "    </tr>\n",
       "    <tr>\n",
       "      <th>3</th>\n",
       "      <td>3</td>\n",
       "      <td>-0.25</td>\n",
       "      <td>-0.307692</td>\n",
       "      <td>-1.0</td>\n",
       "      <td>1.0</td>\n",
       "      <td>0</td>\n",
       "    </tr>\n",
       "    <tr>\n",
       "      <th>4</th>\n",
       "      <td>4</td>\n",
       "      <td>-0.25</td>\n",
       "      <td>-0.307692</td>\n",
       "      <td>1.5</td>\n",
       "      <td>1.0</td>\n",
       "      <td>0</td>\n",
       "    </tr>\n",
       "  </tbody>\n",
       "</table>\n",
       "</div>"
      ],
      "text/plain": [
       "   ID   Age  AnnualIncome  FamilyMembers  ChronicDiseases  TravelInsurance\n",
       "0   0  0.50     -0.769231            0.5              1.0                0\n",
       "1   1  0.50      0.538462            1.0              0.0                0\n",
       "2   2  1.25     -0.615385           -0.5              1.0                1\n",
       "3   3 -0.25     -0.307692           -1.0              1.0                0\n",
       "4   4 -0.25     -0.307692            1.5              1.0                0"
      ]
     },
     "execution_count": 16,
     "metadata": {},
     "output_type": "execute_result"
    }
   ],
   "source": [
    "# 수치형 변수\n",
    "from sklearn.preprocessing import RobustScaler\n",
    "scaler = RobustScaler()\n",
    "cols = ['Age', 'AnnualIncome', 'FamilyMembers', 'ChronicDiseases']\n",
    "\n",
    "display(n_train.head())\n",
    "n_train[cols] = scaler.fit_transform(n_train[cols])\n",
    "n_test[cols] = scaler.transform(n_test[cols])\n",
    "n_train.head()"
   ]
  },
  {
   "cell_type": "code",
   "execution_count": 17,
   "id": "93e442ce",
   "metadata": {
    "execution": {
     "iopub.execute_input": "2021-12-04T17:39:00.429456Z",
     "iopub.status.busy": "2021-12-04T17:39:00.428925Z",
     "iopub.status.idle": "2021-12-04T17:39:00.452860Z",
     "shell.execute_reply": "2021-12-04T17:39:00.453286Z",
     "shell.execute_reply.started": "2021-12-04T16:06:04.428937Z"
    },
    "papermill": {
     "duration": 0.046708,
     "end_time": "2021-12-04T17:39:00.453444",
     "exception": false,
     "start_time": "2021-12-04T17:39:00.406736",
     "status": "completed"
    },
    "tags": []
   },
   "outputs": [
    {
     "data": {
      "text/html": [
       "<div>\n",
       "<style scoped>\n",
       "    .dataframe tbody tr th:only-of-type {\n",
       "        vertical-align: middle;\n",
       "    }\n",
       "\n",
       "    .dataframe tbody tr th {\n",
       "        vertical-align: top;\n",
       "    }\n",
       "\n",
       "    .dataframe thead th {\n",
       "        text-align: right;\n",
       "    }\n",
       "</style>\n",
       "<table border=\"1\" class=\"dataframe\">\n",
       "  <thead>\n",
       "    <tr style=\"text-align: right;\">\n",
       "      <th></th>\n",
       "      <th>Employment Type</th>\n",
       "      <th>GraduateOrNot</th>\n",
       "      <th>FrequentFlyer</th>\n",
       "      <th>EverTravelledAbroad</th>\n",
       "    </tr>\n",
       "  </thead>\n",
       "  <tbody>\n",
       "    <tr>\n",
       "      <th>0</th>\n",
       "      <td>Government Sector</td>\n",
       "      <td>Yes</td>\n",
       "      <td>No</td>\n",
       "      <td>No</td>\n",
       "    </tr>\n",
       "    <tr>\n",
       "      <th>1</th>\n",
       "      <td>Private Sector/Self Employed</td>\n",
       "      <td>Yes</td>\n",
       "      <td>No</td>\n",
       "      <td>No</td>\n",
       "    </tr>\n",
       "    <tr>\n",
       "      <th>2</th>\n",
       "      <td>Private Sector/Self Employed</td>\n",
       "      <td>Yes</td>\n",
       "      <td>No</td>\n",
       "      <td>No</td>\n",
       "    </tr>\n",
       "    <tr>\n",
       "      <th>3</th>\n",
       "      <td>Private Sector/Self Employed</td>\n",
       "      <td>Yes</td>\n",
       "      <td>No</td>\n",
       "      <td>No</td>\n",
       "    </tr>\n",
       "    <tr>\n",
       "      <th>4</th>\n",
       "      <td>Private Sector/Self Employed</td>\n",
       "      <td>Yes</td>\n",
       "      <td>Yes</td>\n",
       "      <td>No</td>\n",
       "    </tr>\n",
       "  </tbody>\n",
       "</table>\n",
       "</div>"
      ],
      "text/plain": [
       "                Employment Type GraduateOrNot FrequentFlyer  \\\n",
       "0             Government Sector           Yes            No   \n",
       "1  Private Sector/Self Employed           Yes            No   \n",
       "2  Private Sector/Self Employed           Yes            No   \n",
       "3  Private Sector/Self Employed           Yes            No   \n",
       "4  Private Sector/Self Employed           Yes           Yes   \n",
       "\n",
       "  EverTravelledAbroad  \n",
       "0                  No  \n",
       "1                  No  \n",
       "2                  No  \n",
       "3                  No  \n",
       "4                  No  "
      ]
     },
     "metadata": {},
     "output_type": "display_data"
    },
    {
     "data": {
      "text/html": [
       "<div>\n",
       "<style scoped>\n",
       "    .dataframe tbody tr th:only-of-type {\n",
       "        vertical-align: middle;\n",
       "    }\n",
       "\n",
       "    .dataframe tbody tr th {\n",
       "        vertical-align: top;\n",
       "    }\n",
       "\n",
       "    .dataframe thead th {\n",
       "        text-align: right;\n",
       "    }\n",
       "</style>\n",
       "<table border=\"1\" class=\"dataframe\">\n",
       "  <thead>\n",
       "    <tr style=\"text-align: right;\">\n",
       "      <th></th>\n",
       "      <th>Employment Type_Government Sector</th>\n",
       "      <th>Employment Type_Private Sector/Self Employed</th>\n",
       "      <th>GraduateOrNot_No</th>\n",
       "      <th>GraduateOrNot_Yes</th>\n",
       "      <th>FrequentFlyer_No</th>\n",
       "      <th>FrequentFlyer_Yes</th>\n",
       "      <th>EverTravelledAbroad_No</th>\n",
       "      <th>EverTravelledAbroad_Yes</th>\n",
       "    </tr>\n",
       "  </thead>\n",
       "  <tbody>\n",
       "    <tr>\n",
       "      <th>0</th>\n",
       "      <td>1</td>\n",
       "      <td>0</td>\n",
       "      <td>0</td>\n",
       "      <td>1</td>\n",
       "      <td>1</td>\n",
       "      <td>0</td>\n",
       "      <td>1</td>\n",
       "      <td>0</td>\n",
       "    </tr>\n",
       "    <tr>\n",
       "      <th>1</th>\n",
       "      <td>0</td>\n",
       "      <td>1</td>\n",
       "      <td>0</td>\n",
       "      <td>1</td>\n",
       "      <td>1</td>\n",
       "      <td>0</td>\n",
       "      <td>1</td>\n",
       "      <td>0</td>\n",
       "    </tr>\n",
       "    <tr>\n",
       "      <th>2</th>\n",
       "      <td>0</td>\n",
       "      <td>1</td>\n",
       "      <td>0</td>\n",
       "      <td>1</td>\n",
       "      <td>1</td>\n",
       "      <td>0</td>\n",
       "      <td>1</td>\n",
       "      <td>0</td>\n",
       "    </tr>\n",
       "    <tr>\n",
       "      <th>3</th>\n",
       "      <td>0</td>\n",
       "      <td>1</td>\n",
       "      <td>0</td>\n",
       "      <td>1</td>\n",
       "      <td>1</td>\n",
       "      <td>0</td>\n",
       "      <td>1</td>\n",
       "      <td>0</td>\n",
       "    </tr>\n",
       "    <tr>\n",
       "      <th>4</th>\n",
       "      <td>0</td>\n",
       "      <td>1</td>\n",
       "      <td>0</td>\n",
       "      <td>1</td>\n",
       "      <td>0</td>\n",
       "      <td>1</td>\n",
       "      <td>1</td>\n",
       "      <td>0</td>\n",
       "    </tr>\n",
       "  </tbody>\n",
       "</table>\n",
       "</div>"
      ],
      "text/plain": [
       "   Employment Type_Government Sector  \\\n",
       "0                                  1   \n",
       "1                                  0   \n",
       "2                                  0   \n",
       "3                                  0   \n",
       "4                                  0   \n",
       "\n",
       "   Employment Type_Private Sector/Self Employed  GraduateOrNot_No  \\\n",
       "0                                             0                 0   \n",
       "1                                             1                 0   \n",
       "2                                             1                 0   \n",
       "3                                             1                 0   \n",
       "4                                             1                 0   \n",
       "\n",
       "   GraduateOrNot_Yes  FrequentFlyer_No  FrequentFlyer_Yes  \\\n",
       "0                  1                 1                  0   \n",
       "1                  1                 1                  0   \n",
       "2                  1                 1                  0   \n",
       "3                  1                 1                  0   \n",
       "4                  1                 0                  1   \n",
       "\n",
       "   EverTravelledAbroad_No  EverTravelledAbroad_Yes  \n",
       "0                       1                        0  \n",
       "1                       1                        0  \n",
       "2                       1                        0  \n",
       "3                       1                        0  \n",
       "4                       1                        0  "
      ]
     },
     "execution_count": 17,
     "metadata": {},
     "output_type": "execute_result"
    }
   ],
   "source": [
    "# 범주형 변수\n",
    "display(c_train.head())\n",
    "c_train = pd.get_dummies(c_train)\n",
    "c_test = pd.get_dummies(c_test)\n",
    "c_train.head()"
   ]
  },
  {
   "cell_type": "code",
   "execution_count": 18,
   "id": "53f03c4d",
   "metadata": {
    "execution": {
     "iopub.execute_input": "2021-12-04T17:39:00.498334Z",
     "iopub.status.busy": "2021-12-04T17:39:00.497400Z",
     "iopub.status.idle": "2021-12-04T17:39:00.515410Z",
     "shell.execute_reply": "2021-12-04T17:39:00.516217Z",
     "shell.execute_reply.started": "2021-12-04T16:06:04.455304Z"
    },
    "papermill": {
     "duration": 0.041777,
     "end_time": "2021-12-04T17:39:00.516438",
     "exception": false,
     "start_time": "2021-12-04T17:39:00.474661",
     "status": "completed"
    },
    "scrolled": true,
    "tags": []
   },
   "outputs": [
    {
     "name": "stdout",
     "output_type": "stream",
     "text": [
      "(1501, 14) (486, 13)\n"
     ]
    },
    {
     "data": {
      "text/html": [
       "<div>\n",
       "<style scoped>\n",
       "    .dataframe tbody tr th:only-of-type {\n",
       "        vertical-align: middle;\n",
       "    }\n",
       "\n",
       "    .dataframe tbody tr th {\n",
       "        vertical-align: top;\n",
       "    }\n",
       "\n",
       "    .dataframe thead th {\n",
       "        text-align: right;\n",
       "    }\n",
       "</style>\n",
       "<table border=\"1\" class=\"dataframe\">\n",
       "  <thead>\n",
       "    <tr style=\"text-align: right;\">\n",
       "      <th></th>\n",
       "      <th>ID</th>\n",
       "      <th>Age</th>\n",
       "      <th>AnnualIncome</th>\n",
       "      <th>FamilyMembers</th>\n",
       "      <th>ChronicDiseases</th>\n",
       "      <th>TravelInsurance</th>\n",
       "      <th>Employment Type_Government Sector</th>\n",
       "      <th>Employment Type_Private Sector/Self Employed</th>\n",
       "      <th>GraduateOrNot_No</th>\n",
       "      <th>GraduateOrNot_Yes</th>\n",
       "      <th>FrequentFlyer_No</th>\n",
       "      <th>FrequentFlyer_Yes</th>\n",
       "      <th>EverTravelledAbroad_No</th>\n",
       "      <th>EverTravelledAbroad_Yes</th>\n",
       "    </tr>\n",
       "  </thead>\n",
       "  <tbody>\n",
       "    <tr>\n",
       "      <th>0</th>\n",
       "      <td>0</td>\n",
       "      <td>0.50</td>\n",
       "      <td>-0.769231</td>\n",
       "      <td>0.5</td>\n",
       "      <td>1.0</td>\n",
       "      <td>0</td>\n",
       "      <td>1</td>\n",
       "      <td>0</td>\n",
       "      <td>0</td>\n",
       "      <td>1</td>\n",
       "      <td>1</td>\n",
       "      <td>0</td>\n",
       "      <td>1</td>\n",
       "      <td>0</td>\n",
       "    </tr>\n",
       "    <tr>\n",
       "      <th>1</th>\n",
       "      <td>1</td>\n",
       "      <td>0.50</td>\n",
       "      <td>0.538462</td>\n",
       "      <td>1.0</td>\n",
       "      <td>0.0</td>\n",
       "      <td>0</td>\n",
       "      <td>0</td>\n",
       "      <td>1</td>\n",
       "      <td>0</td>\n",
       "      <td>1</td>\n",
       "      <td>1</td>\n",
       "      <td>0</td>\n",
       "      <td>1</td>\n",
       "      <td>0</td>\n",
       "    </tr>\n",
       "    <tr>\n",
       "      <th>2</th>\n",
       "      <td>2</td>\n",
       "      <td>1.25</td>\n",
       "      <td>-0.615385</td>\n",
       "      <td>-0.5</td>\n",
       "      <td>1.0</td>\n",
       "      <td>1</td>\n",
       "      <td>0</td>\n",
       "      <td>1</td>\n",
       "      <td>0</td>\n",
       "      <td>1</td>\n",
       "      <td>1</td>\n",
       "      <td>0</td>\n",
       "      <td>1</td>\n",
       "      <td>0</td>\n",
       "    </tr>\n",
       "    <tr>\n",
       "      <th>3</th>\n",
       "      <td>3</td>\n",
       "      <td>-0.25</td>\n",
       "      <td>-0.307692</td>\n",
       "      <td>-1.0</td>\n",
       "      <td>1.0</td>\n",
       "      <td>0</td>\n",
       "      <td>0</td>\n",
       "      <td>1</td>\n",
       "      <td>0</td>\n",
       "      <td>1</td>\n",
       "      <td>1</td>\n",
       "      <td>0</td>\n",
       "      <td>1</td>\n",
       "      <td>0</td>\n",
       "    </tr>\n",
       "    <tr>\n",
       "      <th>4</th>\n",
       "      <td>4</td>\n",
       "      <td>-0.25</td>\n",
       "      <td>-0.307692</td>\n",
       "      <td>1.5</td>\n",
       "      <td>1.0</td>\n",
       "      <td>0</td>\n",
       "      <td>0</td>\n",
       "      <td>1</td>\n",
       "      <td>0</td>\n",
       "      <td>1</td>\n",
       "      <td>0</td>\n",
       "      <td>1</td>\n",
       "      <td>1</td>\n",
       "      <td>0</td>\n",
       "    </tr>\n",
       "  </tbody>\n",
       "</table>\n",
       "</div>"
      ],
      "text/plain": [
       "   ID   Age  AnnualIncome  FamilyMembers  ChronicDiseases  TravelInsurance  \\\n",
       "0   0  0.50     -0.769231            0.5              1.0                0   \n",
       "1   1  0.50      0.538462            1.0              0.0                0   \n",
       "2   2  1.25     -0.615385           -0.5              1.0                1   \n",
       "3   3 -0.25     -0.307692           -1.0              1.0                0   \n",
       "4   4 -0.25     -0.307692            1.5              1.0                0   \n",
       "\n",
       "   Employment Type_Government Sector  \\\n",
       "0                                  1   \n",
       "1                                  0   \n",
       "2                                  0   \n",
       "3                                  0   \n",
       "4                                  0   \n",
       "\n",
       "   Employment Type_Private Sector/Self Employed  GraduateOrNot_No  \\\n",
       "0                                             0                 0   \n",
       "1                                             1                 0   \n",
       "2                                             1                 0   \n",
       "3                                             1                 0   \n",
       "4                                             1                 0   \n",
       "\n",
       "   GraduateOrNot_Yes  FrequentFlyer_No  FrequentFlyer_Yes  \\\n",
       "0                  1                 1                  0   \n",
       "1                  1                 1                  0   \n",
       "2                  1                 1                  0   \n",
       "3                  1                 1                  0   \n",
       "4                  1                 0                  1   \n",
       "\n",
       "   EverTravelledAbroad_No  EverTravelledAbroad_Yes  \n",
       "0                       1                        0  \n",
       "1                       1                        0  \n",
       "2                       1                        0  \n",
       "3                       1                        0  \n",
       "4                       1                        0  "
      ]
     },
     "execution_count": 18,
     "metadata": {},
     "output_type": "execute_result"
    }
   ],
   "source": [
    "# 분리한 데이터 다시 합침\n",
    "train = pd.concat([n_train, c_train], axis=1)\n",
    "test = pd.concat([n_test, c_test], axis=1)\n",
    "print(train.shape, test.shape)\n",
    "train.head()"
   ]
  },
  {
   "cell_type": "markdown",
   "id": "0c5d6ed2",
   "metadata": {
    "papermill": {
     "duration": 0.020445,
     "end_time": "2021-12-04T17:39:00.557890",
     "exception": false,
     "start_time": "2021-12-04T17:39:00.537445",
     "status": "completed"
    },
    "tags": []
   },
   "source": [
    "## 검증 데이터 분리"
   ]
  },
  {
   "cell_type": "code",
   "execution_count": 19,
   "id": "d1461d85",
   "metadata": {
    "execution": {
     "iopub.execute_input": "2021-12-04T17:39:00.603152Z",
     "iopub.status.busy": "2021-12-04T17:39:00.602227Z",
     "iopub.status.idle": "2021-12-04T17:39:00.659296Z",
     "shell.execute_reply": "2021-12-04T17:39:00.658805Z",
     "shell.execute_reply.started": "2021-12-04T16:06:04.473685Z"
    },
    "papermill": {
     "duration": 0.080907,
     "end_time": "2021-12-04T17:39:00.659448",
     "exception": false,
     "start_time": "2021-12-04T17:39:00.578541",
     "status": "completed"
    },
    "tags": []
   },
   "outputs": [
    {
     "data": {
      "text/plain": [
       "((1350, 13), (151, 13), (1350,), (151,))"
      ]
     },
     "execution_count": 19,
     "metadata": {},
     "output_type": "execute_result"
    }
   ],
   "source": [
    "from sklearn.model_selection import train_test_split\n",
    "X_tr, X_val, y_tr, y_val = train_test_split(train.drop('TravelInsurance', axis=1), \n",
    "                                            train['TravelInsurance'],\n",
    "                                            test_size=0.1,\n",
    "                                            random_state=1204)\n",
    "X_tr.shape, X_val.shape, y_tr.shape, y_val.shape"
   ]
  },
  {
   "cell_type": "markdown",
   "id": "1626c09c",
   "metadata": {
    "papermill": {
     "duration": 0.021931,
     "end_time": "2021-12-04T17:39:00.703478",
     "exception": false,
     "start_time": "2021-12-04T17:39:00.681547",
     "status": "completed"
    },
    "tags": []
   },
   "source": [
    "## 모델"
   ]
  },
  {
   "cell_type": "code",
   "execution_count": 24,
   "id": "3423ba99",
   "metadata": {
    "execution": {
     "iopub.execute_input": "2021-12-04T17:39:00.753226Z",
     "iopub.status.busy": "2021-12-04T17:39:00.752316Z",
     "iopub.status.idle": "2021-12-04T17:39:01.733704Z",
     "shell.execute_reply": "2021-12-04T17:39:01.734205Z",
     "shell.execute_reply.started": "2021-12-04T16:06:04.494419Z"
    },
    "papermill": {
     "duration": 1.008997,
     "end_time": "2021-12-04T17:39:01.734374",
     "exception": false,
     "start_time": "2021-12-04T17:39:00.725377",
     "status": "completed"
    },
    "tags": []
   },
   "outputs": [],
   "source": [
    "from sklearn.ensemble import RandomForestClassifier\n",
    "rf = RandomForestClassifier(n_estimators=400, max_depth=9, random_state=1204)\n",
    "rf.fit(X_tr, y_tr)\n",
    "pred = rf.predict_proba(X_val)[:,1]"
   ]
  },
  {
   "cell_type": "markdown",
   "id": "e2748c82",
   "metadata": {
    "papermill": {
     "duration": 0.022746,
     "end_time": "2021-12-04T17:39:01.779492",
     "exception": false,
     "start_time": "2021-12-04T17:39:01.756746",
     "status": "completed"
    },
    "tags": []
   },
   "source": [
    "## 검증 평가"
   ]
  },
  {
   "cell_type": "code",
   "execution_count": 21,
   "id": "eb0812c9",
   "metadata": {
    "execution": {
     "iopub.execute_input": "2021-12-04T17:39:01.827581Z",
     "iopub.status.busy": "2021-12-04T17:39:01.826451Z",
     "iopub.status.idle": "2021-12-04T17:39:01.832185Z",
     "shell.execute_reply": "2021-12-04T17:39:01.832567Z",
     "shell.execute_reply.started": "2021-12-04T16:06:05.617479Z"
    },
    "papermill": {
     "duration": 0.032059,
     "end_time": "2021-12-04T17:39:01.832780",
     "exception": false,
     "start_time": "2021-12-04T17:39:01.800721",
     "status": "completed"
    },
    "tags": []
   },
   "outputs": [
    {
     "data": {
      "text/plain": [
       "0.7798778159602903"
      ]
     },
     "execution_count": 21,
     "metadata": {},
     "output_type": "execute_result"
    }
   ],
   "source": [
    "from sklearn.metrics import roc_auc_score\n",
    "roc_auc_score(y_val, pred)"
   ]
  },
  {
   "cell_type": "code",
   "execution_count": null,
   "id": "1c3c69f0",
   "metadata": {
    "papermill": {
     "duration": 0.021133,
     "end_time": "2021-12-04T17:39:01.875476",
     "exception": false,
     "start_time": "2021-12-04T17:39:01.854343",
     "status": "completed"
    },
    "tags": []
   },
   "outputs": [],
   "source": []
  },
  {
   "cell_type": "markdown",
   "id": "0db68c26",
   "metadata": {
    "papermill": {
     "duration": 0.021226,
     "end_time": "2021-12-04T17:39:01.918782",
     "exception": false,
     "start_time": "2021-12-04T17:39:01.897556",
     "status": "completed"
    },
    "tags": []
   },
   "source": [
    "## test 데이터 예측"
   ]
  },
  {
   "cell_type": "code",
   "execution_count": 22,
   "id": "c6f0f465",
   "metadata": {
    "execution": {
     "iopub.execute_input": "2021-12-04T17:39:01.965275Z",
     "iopub.status.busy": "2021-12-04T17:39:01.964394Z",
     "iopub.status.idle": "2021-12-04T17:39:02.026642Z",
     "shell.execute_reply": "2021-12-04T17:39:02.027139Z",
     "shell.execute_reply.started": "2021-12-04T16:06:05.630746Z"
    },
    "papermill": {
     "duration": 0.087081,
     "end_time": "2021-12-04T17:39:02.027309",
     "exception": false,
     "start_time": "2021-12-04T17:39:01.940228",
     "status": "completed"
    },
    "tags": []
   },
   "outputs": [],
   "source": [
    "pred = rf.predict_proba(test)[:,1]"
   ]
  },
  {
   "cell_type": "code",
   "execution_count": 23,
   "id": "09b9ed91",
   "metadata": {},
   "outputs": [
    {
     "data": {
      "text/html": [
       "<div>\n",
       "<style scoped>\n",
       "    .dataframe tbody tr th:only-of-type {\n",
       "        vertical-align: middle;\n",
       "    }\n",
       "\n",
       "    .dataframe tbody tr th {\n",
       "        vertical-align: top;\n",
       "    }\n",
       "\n",
       "    .dataframe thead th {\n",
       "        text-align: right;\n",
       "    }\n",
       "</style>\n",
       "<table border=\"1\" class=\"dataframe\">\n",
       "  <thead>\n",
       "    <tr style=\"text-align: right;\">\n",
       "      <th></th>\n",
       "      <th>index</th>\n",
       "      <th>y_pred</th>\n",
       "    </tr>\n",
       "  </thead>\n",
       "  <tbody>\n",
       "    <tr>\n",
       "      <th>0</th>\n",
       "      <td>0</td>\n",
       "      <td>0.187254</td>\n",
       "    </tr>\n",
       "    <tr>\n",
       "      <th>1</th>\n",
       "      <td>1</td>\n",
       "      <td>0.233128</td>\n",
       "    </tr>\n",
       "    <tr>\n",
       "      <th>2</th>\n",
       "      <td>2</td>\n",
       "      <td>0.237684</td>\n",
       "    </tr>\n",
       "    <tr>\n",
       "      <th>3</th>\n",
       "      <td>3</td>\n",
       "      <td>0.174952</td>\n",
       "    </tr>\n",
       "    <tr>\n",
       "      <th>4</th>\n",
       "      <td>4</td>\n",
       "      <td>0.248444</td>\n",
       "    </tr>\n",
       "    <tr>\n",
       "      <th>...</th>\n",
       "      <td>...</td>\n",
       "      <td>...</td>\n",
       "    </tr>\n",
       "    <tr>\n",
       "      <th>481</th>\n",
       "      <td>481</td>\n",
       "      <td>0.924179</td>\n",
       "    </tr>\n",
       "    <tr>\n",
       "      <th>482</th>\n",
       "      <td>482</td>\n",
       "      <td>0.696152</td>\n",
       "    </tr>\n",
       "    <tr>\n",
       "      <th>483</th>\n",
       "      <td>483</td>\n",
       "      <td>0.203095</td>\n",
       "    </tr>\n",
       "    <tr>\n",
       "      <th>484</th>\n",
       "      <td>484</td>\n",
       "      <td>0.586178</td>\n",
       "    </tr>\n",
       "    <tr>\n",
       "      <th>485</th>\n",
       "      <td>485</td>\n",
       "      <td>0.240184</td>\n",
       "    </tr>\n",
       "  </tbody>\n",
       "</table>\n",
       "<p>486 rows × 2 columns</p>\n",
       "</div>"
      ],
      "text/plain": [
       "     index    y_pred\n",
       "0        0  0.187254\n",
       "1        1  0.233128\n",
       "2        2  0.237684\n",
       "3        3  0.174952\n",
       "4        4  0.248444\n",
       "..     ...       ...\n",
       "481    481  0.924179\n",
       "482    482  0.696152\n",
       "483    483  0.203095\n",
       "484    484  0.586178\n",
       "485    485  0.240184\n",
       "\n",
       "[486 rows x 2 columns]"
      ]
     },
     "execution_count": 23,
     "metadata": {},
     "output_type": "execute_result"
    }
   ],
   "source": [
    "pd.DataFrame({'index':test.index,'y_pred':pred})"
   ]
  },
  {
   "cell_type": "code",
   "execution_count": 17,
   "id": "ab73dc6c",
   "metadata": {
    "execution": {
     "iopub.execute_input": "2021-12-04T17:39:02.073782Z",
     "iopub.status.busy": "2021-12-04T17:39:02.073204Z",
     "iopub.status.idle": "2021-12-04T17:39:02.081027Z",
     "shell.execute_reply": "2021-12-04T17:39:02.081492Z",
     "shell.execute_reply.started": "2021-12-04T16:06:05.710661Z"
    },
    "papermill": {
     "duration": 0.032513,
     "end_time": "2021-12-04T17:39:02.081675",
     "exception": false,
     "start_time": "2021-12-04T17:39:02.049162",
     "status": "completed"
    },
    "tags": []
   },
   "outputs": [],
   "source": [
    "# csv 파일 생성 (예시와 다른 형태)\n",
    "pd.DataFrame({'index':test.index,'y_pred':pred}).to_csv('0000.csv', index=False)"
   ]
  },
  {
   "cell_type": "code",
   "execution_count": 18,
   "id": "092b43a6",
   "metadata": {
    "execution": {
     "iopub.execute_input": "2021-12-04T17:39:02.129628Z",
     "iopub.status.busy": "2021-12-04T17:39:02.128986Z",
     "iopub.status.idle": "2021-12-04T17:39:02.135679Z",
     "shell.execute_reply": "2021-12-04T17:39:02.136177Z",
     "shell.execute_reply.started": "2021-12-04T16:06:05.722484Z"
    },
    "papermill": {
     "duration": 0.032913,
     "end_time": "2021-12-04T17:39:02.136336",
     "exception": false,
     "start_time": "2021-12-04T17:39:02.103423",
     "status": "completed"
    },
    "tags": []
   },
   "outputs": [],
   "source": [
    "# 또는\n",
    "pd.DataFrame({'y_pred':pred}).reset_index().to_csv('1111.csv', index=False)"
   ]
  },
  {
   "cell_type": "markdown",
   "id": "00f3c7d1",
   "metadata": {
    "papermill": {
     "duration": 0.021644,
     "end_time": "2021-12-04T17:39:02.297161",
     "exception": false,
     "start_time": "2021-12-04T17:39:02.275517",
     "status": "completed"
    },
    "tags": []
   },
   "source": [
    "## 평가(체점)"
   ]
  },
  {
   "cell_type": "code",
   "execution_count": 21,
   "id": "068cbcec",
   "metadata": {
    "execution": {
     "iopub.execute_input": "2021-12-04T17:39:02.344469Z",
     "iopub.status.busy": "2021-12-04T17:39:02.343926Z",
     "iopub.status.idle": "2021-12-04T17:39:02.370537Z",
     "shell.execute_reply": "2021-12-04T17:39:02.371030Z",
     "shell.execute_reply.started": "2021-12-04T16:06:05.764671Z"
    },
    "papermill": {
     "duration": 0.051847,
     "end_time": "2021-12-04T17:39:02.371200",
     "exception": false,
     "start_time": "2021-12-04T17:39:02.319353",
     "status": "completed"
    },
    "tags": []
   },
   "outputs": [
    {
     "data": {
      "text/plain": [
       "0.5025364274150026"
      ]
     },
     "execution_count": 21,
     "metadata": {},
     "output_type": "execute_result"
    }
   ],
   "source": [
    "y_test = pd.read_json(\"../input/traval-insurance-exam/y_test.json\")\n",
    "roc_auc_score(y_test, pred)"
   ]
  },
  {
   "cell_type": "code",
   "execution_count": null,
   "id": "3ddb82e9",
   "metadata": {
    "papermill": {
     "duration": 0.021908,
     "end_time": "2021-12-04T17:39:02.415938",
     "exception": false,
     "start_time": "2021-12-04T17:39:02.394030",
     "status": "completed"
    },
    "tags": []
   },
   "outputs": [],
   "source": []
  }
 ],
 "metadata": {
  "kernelspec": {
   "display_name": "Python 3",
   "language": "python",
   "name": "python3"
  },
  "language_info": {
   "codemirror_mode": {
    "name": "ipython",
    "version": 3
   },
   "file_extension": ".py",
   "mimetype": "text/x-python",
   "name": "python",
   "nbconvert_exporter": "python",
   "pygments_lexer": "ipython3",
   "version": "3.8.8"
  },
  "papermill": {
   "default_parameters": {},
   "duration": 12.993365,
   "end_time": "2021-12-04T17:39:03.148145",
   "environment_variables": {},
   "exception": null,
   "input_path": "__notebook__.ipynb",
   "output_path": "__notebook__.ipynb",
   "parameters": {},
   "start_time": "2021-12-04T17:38:50.154780",
   "version": "2.3.3"
  }
 },
 "nbformat": 4,
 "nbformat_minor": 5
}
