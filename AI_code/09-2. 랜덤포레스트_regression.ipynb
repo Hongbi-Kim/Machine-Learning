{
 "cells": [
  {
   "cell_type": "code",
   "execution_count": 7,
   "id": "988a0640",
   "metadata": {},
   "outputs": [],
   "source": [
    "import pandas as pd\n",
    "%matplotlib inline\n",
    "import matplotlib.pyplot as plt\n",
    "import numpy as np\n",
    "\n",
    "from sklearn import tree, ensemble\n",
    "from sklearn.metrics import accuracy_score, confusion_matrix\n",
    "from sklearn.metrics import precision_score, recall_score, f1_score"
   ]
  },
  {
   "cell_type": "code",
   "execution_count": 1,
   "id": "96af6c17",
   "metadata": {},
   "outputs": [],
   "source": [
    "from sklearn import datasets\n",
    "\n",
    "diabetes = datasets.load_diabetes()"
   ]
  },
  {
   "cell_type": "code",
   "execution_count": 2,
   "id": "56fbff9c",
   "metadata": {
    "scrolled": true
   },
   "outputs": [
    {
     "data": {
      "text/plain": [
       "{'data': array([[ 0.03807591,  0.05068012,  0.06169621, ..., -0.00259226,\n",
       "          0.01990842, -0.01764613],\n",
       "        [-0.00188202, -0.04464164, -0.05147406, ..., -0.03949338,\n",
       "         -0.06832974, -0.09220405],\n",
       "        [ 0.08529891,  0.05068012,  0.04445121, ..., -0.00259226,\n",
       "          0.00286377, -0.02593034],\n",
       "        ...,\n",
       "        [ 0.04170844,  0.05068012, -0.01590626, ..., -0.01107952,\n",
       "         -0.04687948,  0.01549073],\n",
       "        [-0.04547248, -0.04464164,  0.03906215, ...,  0.02655962,\n",
       "          0.04452837, -0.02593034],\n",
       "        [-0.04547248, -0.04464164, -0.0730303 , ..., -0.03949338,\n",
       "         -0.00421986,  0.00306441]]),\n",
       " 'target': array([151.,  75., 141., 206., 135.,  97., 138.,  63., 110., 310., 101.,\n",
       "         69., 179., 185., 118., 171., 166., 144.,  97., 168.,  68.,  49.,\n",
       "         68., 245., 184., 202., 137.,  85., 131., 283., 129.,  59., 341.,\n",
       "         87.,  65., 102., 265., 276., 252.,  90., 100.,  55.,  61.,  92.,\n",
       "        259.,  53., 190., 142.,  75., 142., 155., 225.,  59., 104., 182.,\n",
       "        128.,  52.,  37., 170., 170.,  61., 144.,  52., 128.,  71., 163.,\n",
       "        150.,  97., 160., 178.,  48., 270., 202., 111.,  85.,  42., 170.,\n",
       "        200., 252., 113., 143.,  51.,  52., 210.,  65., 141.,  55., 134.,\n",
       "         42., 111.,  98., 164.,  48.,  96.,  90., 162., 150., 279.,  92.,\n",
       "         83., 128., 102., 302., 198.,  95.,  53., 134., 144., 232.,  81.,\n",
       "        104.,  59., 246., 297., 258., 229., 275., 281., 179., 200., 200.,\n",
       "        173., 180.,  84., 121., 161.,  99., 109., 115., 268., 274., 158.,\n",
       "        107.,  83., 103., 272.,  85., 280., 336., 281., 118., 317., 235.,\n",
       "         60., 174., 259., 178., 128.,  96., 126., 288.,  88., 292.,  71.,\n",
       "        197., 186.,  25.,  84.,  96., 195.,  53., 217., 172., 131., 214.,\n",
       "         59.,  70., 220., 268., 152.,  47.,  74., 295., 101., 151., 127.,\n",
       "        237., 225.,  81., 151., 107.,  64., 138., 185., 265., 101., 137.,\n",
       "        143., 141.,  79., 292., 178.,  91., 116.,  86., 122.,  72., 129.,\n",
       "        142.,  90., 158.,  39., 196., 222., 277.,  99., 196., 202., 155.,\n",
       "         77., 191.,  70.,  73.,  49.,  65., 263., 248., 296., 214., 185.,\n",
       "         78.,  93., 252., 150.,  77., 208.,  77., 108., 160.,  53., 220.,\n",
       "        154., 259.,  90., 246., 124.,  67.,  72., 257., 262., 275., 177.,\n",
       "         71.,  47., 187., 125.,  78.,  51., 258., 215., 303., 243.,  91.,\n",
       "        150., 310., 153., 346.,  63.,  89.,  50.,  39., 103., 308., 116.,\n",
       "        145.,  74.,  45., 115., 264.,  87., 202., 127., 182., 241.,  66.,\n",
       "         94., 283.,  64., 102., 200., 265.,  94., 230., 181., 156., 233.,\n",
       "         60., 219.,  80.,  68., 332., 248.,  84., 200.,  55.,  85.,  89.,\n",
       "         31., 129.,  83., 275.,  65., 198., 236., 253., 124.,  44., 172.,\n",
       "        114., 142., 109., 180., 144., 163., 147.,  97., 220., 190., 109.,\n",
       "        191., 122., 230., 242., 248., 249., 192., 131., 237.,  78., 135.,\n",
       "        244., 199., 270., 164.,  72.,  96., 306.,  91., 214.,  95., 216.,\n",
       "        263., 178., 113., 200., 139., 139.,  88., 148.,  88., 243.,  71.,\n",
       "         77., 109., 272.,  60.,  54., 221.,  90., 311., 281., 182., 321.,\n",
       "         58., 262., 206., 233., 242., 123., 167.,  63., 197.,  71., 168.,\n",
       "        140., 217., 121., 235., 245.,  40.,  52., 104., 132.,  88.,  69.,\n",
       "        219.,  72., 201., 110.,  51., 277.,  63., 118.,  69., 273., 258.,\n",
       "         43., 198., 242., 232., 175.,  93., 168., 275., 293., 281.,  72.,\n",
       "        140., 189., 181., 209., 136., 261., 113., 131., 174., 257.,  55.,\n",
       "         84.,  42., 146., 212., 233.,  91., 111., 152., 120.,  67., 310.,\n",
       "         94., 183.,  66., 173.,  72.,  49.,  64.,  48., 178., 104., 132.,\n",
       "        220.,  57.]),\n",
       " 'frame': None,\n",
       " 'DESCR': '.. _diabetes_dataset:\\n\\nDiabetes dataset\\n----------------\\n\\nTen baseline variables, age, sex, body mass index, average blood\\npressure, and six blood serum measurements were obtained for each of n =\\n442 diabetes patients, as well as the response of interest, a\\nquantitative measure of disease progression one year after baseline.\\n\\n**Data Set Characteristics:**\\n\\n  :Number of Instances: 442\\n\\n  :Number of Attributes: First 10 columns are numeric predictive values\\n\\n  :Target: Column 11 is a quantitative measure of disease progression one year after baseline\\n\\n  :Attribute Information:\\n      - age     age in years\\n      - sex\\n      - bmi     body mass index\\n      - bp      average blood pressure\\n      - s1      tc, T-Cells (a type of white blood cells)\\n      - s2      ldl, low-density lipoproteins\\n      - s3      hdl, high-density lipoproteins\\n      - s4      tch, thyroid stimulating hormone\\n      - s5      ltg, lamotrigine\\n      - s6      glu, blood sugar level\\n\\nNote: Each of these 10 feature variables have been mean centered and scaled by the standard deviation times `n_samples` (i.e. the sum of squares of each column totals 1).\\n\\nSource URL:\\nhttps://www4.stat.ncsu.edu/~boos/var.select/diabetes.html\\n\\nFor more information see:\\nBradley Efron, Trevor Hastie, Iain Johnstone and Robert Tibshirani (2004) \"Least Angle Regression,\" Annals of Statistics (with discussion), 407-499.\\n(https://web.stanford.edu/~hastie/Papers/LARS/LeastAngle_2002.pdf)',\n",
       " 'feature_names': ['age',\n",
       "  'sex',\n",
       "  'bmi',\n",
       "  'bp',\n",
       "  's1',\n",
       "  's2',\n",
       "  's3',\n",
       "  's4',\n",
       "  's5',\n",
       "  's6'],\n",
       " 'data_filename': 'C:\\\\Users\\\\khb16\\\\anaconda3\\\\lib\\\\site-packages\\\\sklearn\\\\datasets\\\\data\\\\diabetes_data.csv.gz',\n",
       " 'target_filename': 'C:\\\\Users\\\\khb16\\\\anaconda3\\\\lib\\\\site-packages\\\\sklearn\\\\datasets\\\\data\\\\diabetes_target.csv.gz'}"
      ]
     },
     "execution_count": 2,
     "metadata": {},
     "output_type": "execute_result"
    }
   ],
   "source": [
    "diabetes"
   ]
  },
  {
   "cell_type": "code",
   "execution_count": 4,
   "id": "480dde36",
   "metadata": {},
   "outputs": [],
   "source": [
    "x = diabetes.data\n",
    "y = diabetes.target\n",
    "feature = diabetes.feature_names"
   ]
  },
  {
   "cell_type": "code",
   "execution_count": 5,
   "id": "bb88a321",
   "metadata": {},
   "outputs": [
    {
     "data": {
      "text/plain": [
       "(array([[ 0.03807591,  0.05068012,  0.06169621, ..., -0.00259226,\n",
       "          0.01990842, -0.01764613],\n",
       "        [-0.00188202, -0.04464164, -0.05147406, ..., -0.03949338,\n",
       "         -0.06832974, -0.09220405],\n",
       "        [ 0.08529891,  0.05068012,  0.04445121, ..., -0.00259226,\n",
       "          0.00286377, -0.02593034],\n",
       "        ...,\n",
       "        [ 0.04170844,  0.05068012, -0.01590626, ..., -0.01107952,\n",
       "         -0.04687948,  0.01549073],\n",
       "        [-0.04547248, -0.04464164,  0.03906215, ...,  0.02655962,\n",
       "          0.04452837, -0.02593034],\n",
       "        [-0.04547248, -0.04464164, -0.0730303 , ..., -0.03949338,\n",
       "         -0.00421986,  0.00306441]]),\n",
       " (442, 10),\n",
       " ['age', 'sex', 'bmi', 'bp', 's1', 's2', 's3', 's4', 's5', 's6'])"
      ]
     },
     "execution_count": 5,
     "metadata": {},
     "output_type": "execute_result"
    }
   ],
   "source": [
    "x, x.shape, feature"
   ]
  },
  {
   "cell_type": "code",
   "execution_count": 6,
   "id": "93309021",
   "metadata": {
    "scrolled": true
   },
   "outputs": [
    {
     "data": {
      "text/plain": [
       "(array([151.,  75., 141., 206., 135.,  97., 138.,  63., 110., 310., 101.,\n",
       "         69., 179., 185., 118., 171., 166., 144.,  97., 168.,  68.,  49.,\n",
       "         68., 245., 184., 202., 137.,  85., 131., 283., 129.,  59., 341.,\n",
       "         87.,  65., 102., 265., 276., 252.,  90., 100.,  55.,  61.,  92.,\n",
       "        259.,  53., 190., 142.,  75., 142., 155., 225.,  59., 104., 182.,\n",
       "        128.,  52.,  37., 170., 170.,  61., 144.,  52., 128.,  71., 163.,\n",
       "        150.,  97., 160., 178.,  48., 270., 202., 111.,  85.,  42., 170.,\n",
       "        200., 252., 113., 143.,  51.,  52., 210.,  65., 141.,  55., 134.,\n",
       "         42., 111.,  98., 164.,  48.,  96.,  90., 162., 150., 279.,  92.,\n",
       "         83., 128., 102., 302., 198.,  95.,  53., 134., 144., 232.,  81.,\n",
       "        104.,  59., 246., 297., 258., 229., 275., 281., 179., 200., 200.,\n",
       "        173., 180.,  84., 121., 161.,  99., 109., 115., 268., 274., 158.,\n",
       "        107.,  83., 103., 272.,  85., 280., 336., 281., 118., 317., 235.,\n",
       "         60., 174., 259., 178., 128.,  96., 126., 288.,  88., 292.,  71.,\n",
       "        197., 186.,  25.,  84.,  96., 195.,  53., 217., 172., 131., 214.,\n",
       "         59.,  70., 220., 268., 152.,  47.,  74., 295., 101., 151., 127.,\n",
       "        237., 225.,  81., 151., 107.,  64., 138., 185., 265., 101., 137.,\n",
       "        143., 141.,  79., 292., 178.,  91., 116.,  86., 122.,  72., 129.,\n",
       "        142.,  90., 158.,  39., 196., 222., 277.,  99., 196., 202., 155.,\n",
       "         77., 191.,  70.,  73.,  49.,  65., 263., 248., 296., 214., 185.,\n",
       "         78.,  93., 252., 150.,  77., 208.,  77., 108., 160.,  53., 220.,\n",
       "        154., 259.,  90., 246., 124.,  67.,  72., 257., 262., 275., 177.,\n",
       "         71.,  47., 187., 125.,  78.,  51., 258., 215., 303., 243.,  91.,\n",
       "        150., 310., 153., 346.,  63.,  89.,  50.,  39., 103., 308., 116.,\n",
       "        145.,  74.,  45., 115., 264.,  87., 202., 127., 182., 241.,  66.,\n",
       "         94., 283.,  64., 102., 200., 265.,  94., 230., 181., 156., 233.,\n",
       "         60., 219.,  80.,  68., 332., 248.,  84., 200.,  55.,  85.,  89.,\n",
       "         31., 129.,  83., 275.,  65., 198., 236., 253., 124.,  44., 172.,\n",
       "        114., 142., 109., 180., 144., 163., 147.,  97., 220., 190., 109.,\n",
       "        191., 122., 230., 242., 248., 249., 192., 131., 237.,  78., 135.,\n",
       "        244., 199., 270., 164.,  72.,  96., 306.,  91., 214.,  95., 216.,\n",
       "        263., 178., 113., 200., 139., 139.,  88., 148.,  88., 243.,  71.,\n",
       "         77., 109., 272.,  60.,  54., 221.,  90., 311., 281., 182., 321.,\n",
       "         58., 262., 206., 233., 242., 123., 167.,  63., 197.,  71., 168.,\n",
       "        140., 217., 121., 235., 245.,  40.,  52., 104., 132.,  88.,  69.,\n",
       "        219.,  72., 201., 110.,  51., 277.,  63., 118.,  69., 273., 258.,\n",
       "         43., 198., 242., 232., 175.,  93., 168., 275., 293., 281.,  72.,\n",
       "        140., 189., 181., 209., 136., 261., 113., 131., 174., 257.,  55.,\n",
       "         84.,  42., 146., 212., 233.,  91., 111., 152., 120.,  67., 310.,\n",
       "         94., 183.,  66., 173.,  72.,  49.,  64.,  48., 178., 104., 132.,\n",
       "        220.,  57.]),\n",
       " (442,))"
      ]
     },
     "execution_count": 6,
     "metadata": {},
     "output_type": "execute_result"
    }
   ],
   "source": [
    "y, y.shape"
   ]
  },
  {
   "cell_type": "code",
   "execution_count": 9,
   "id": "04bd5058",
   "metadata": {},
   "outputs": [
    {
     "data": {
      "text/plain": [
       "StandardScaler()"
      ]
     },
     "execution_count": 9,
     "metadata": {},
     "output_type": "execute_result"
    }
   ],
   "source": [
    "# 데이터 정규화\n",
    "from sklearn.preprocessing import StandardScaler\n",
    "scaler = StandardScaler()\n",
    "scaler.fit(x)"
   ]
  },
  {
   "cell_type": "code",
   "execution_count": 10,
   "id": "5d357fe9",
   "metadata": {},
   "outputs": [],
   "source": [
    "x_regu = scaler.transform(x)"
   ]
  },
  {
   "cell_type": "code",
   "execution_count": 11,
   "id": "104d4321",
   "metadata": {},
   "outputs": [
    {
     "data": {
      "text/plain": [
       "(array([[ 0.80050009,  1.06548848,  1.29708846, ..., -0.05449919,\n",
       "          0.41855058, -0.37098854],\n",
       "        [-0.03956713, -0.93853666, -1.08218016, ..., -0.83030083,\n",
       "         -1.43655059, -1.93847913],\n",
       "        [ 1.79330681,  1.06548848,  0.93453324, ..., -0.05449919,\n",
       "          0.06020733, -0.54515416],\n",
       "        ...,\n",
       "        [ 0.87686984,  1.06548848, -0.33441002, ..., -0.23293356,\n",
       "         -0.98558469,  0.32567395],\n",
       "        [-0.9560041 , -0.93853666,  0.82123474, ...,  0.55838411,\n",
       "          0.93615545, -0.54515416],\n",
       "        [-0.9560041 , -0.93853666, -1.53537419, ..., -0.83030083,\n",
       "         -0.08871747,  0.06442552]]),\n",
       " (442, 10))"
      ]
     },
     "execution_count": 11,
     "metadata": {},
     "output_type": "execute_result"
    }
   ],
   "source": [
    "x_regu, x_regu.shape"
   ]
  },
  {
   "cell_type": "code",
   "execution_count": 21,
   "id": "db88fd57",
   "metadata": {},
   "outputs": [],
   "source": [
    "# 랜덤 회귀모델\n",
    "\n",
    "model = ensemble.RandomForestRegressor()"
   ]
  },
  {
   "cell_type": "code",
   "execution_count": 22,
   "id": "6c2b9b2e",
   "metadata": {},
   "outputs": [
    {
     "data": {
      "text/plain": [
       "RandomForestRegressor()"
      ]
     },
     "execution_count": 22,
     "metadata": {},
     "output_type": "execute_result"
    }
   ],
   "source": [
    "# 정규화하지 않은 모델 model_1\n",
    "model_1 = model.fit(x,y)\n",
    "model_1"
   ]
  },
  {
   "cell_type": "code",
   "execution_count": 33,
   "id": "8c5096f2",
   "metadata": {},
   "outputs": [
    {
     "data": {
      "text/plain": [
       "RandomForestRegressor()"
      ]
     },
     "execution_count": 33,
     "metadata": {},
     "output_type": "execute_result"
    }
   ],
   "source": [
    "# 정규화한 모델 model_2\n",
    "model_2 = model.fit(x_regu,y)\n",
    "model_2"
   ]
  },
  {
   "cell_type": "code",
   "execution_count": 24,
   "id": "a18e8d91",
   "metadata": {},
   "outputs": [
    {
     "data": {
      "text/plain": [
       "0.9210844633573584"
      ]
     },
     "execution_count": 24,
     "metadata": {},
     "output_type": "execute_result"
    }
   ],
   "source": [
    "# 결정계수 표시\n",
    "model_1.score(x, y)\n",
    "# 92% 설명력"
   ]
  },
  {
   "cell_type": "code",
   "execution_count": 34,
   "id": "47e933a1",
   "metadata": {},
   "outputs": [
    {
     "data": {
      "text/plain": [
       "0.9197404854340614"
      ]
     },
     "execution_count": 34,
     "metadata": {},
     "output_type": "execute_result"
    }
   ],
   "source": [
    "# 결정계수 표시\n",
    "model_2.score(x_regu, y)\n",
    "# 92% 설명력"
   ]
  },
  {
   "cell_type": "code",
   "execution_count": 25,
   "id": "24907768",
   "metadata": {},
   "outputs": [
    {
     "name": "stdout",
     "output_type": "stream",
     "text": [
      "결정계수: 0.9210844633573584\n"
     ]
    }
   ],
   "source": [
    "r2 = model_1.score(x,y)\n",
    "print('결정계수:' , r2)"
   ]
  },
  {
   "cell_type": "code",
   "execution_count": 26,
   "id": "b4b28d6e",
   "metadata": {
    "scrolled": true
   },
   "outputs": [
    {
     "data": {
      "text/plain": [
       "array([179.31,  78.27, 154.14, 190.08, 121.27, 100.81, 114.51,  98.47,\n",
       "       125.11, 247.84, 103.21, 101.11, 146.68, 181.32, 111.41, 181.77,\n",
       "       187.35, 157.44, 102.21, 133.51,  84.24,  76.56,  78.29, 243.57,\n",
       "       174.87, 177.36, 123.81, 114.  , 134.31, 253.13, 134.43,  61.95,\n",
       "       312.02,  94.17,  70.67, 112.61, 246.91, 232.5 , 248.66, 122.5 ,\n",
       "       138.49,  84.11,  82.63,  94.  , 230.55,  68.96, 162.29, 138.84,\n",
       "        80.04, 153.41, 136.57, 202.94,  83.73, 111.43, 158.29, 111.31,\n",
       "       110.28,  57.24, 146.61, 158.03,  75.27, 145.45,  54.57, 121.21,\n",
       "        97.18, 162.58, 141.28,  95.86, 130.54, 144.77,  61.71, 261.7 ,\n",
       "       188.82, 108.04, 116.96,  72.55, 177.91, 165.43, 218.15, 127.17,\n",
       "       153.04,  77.14,  66.66, 187.84,  67.85, 150.28,  71.84, 152.24,\n",
       "        59.84,  98.49,  91.07, 158.7 ,  89.29,  90.94,  90.69, 156.9 ,\n",
       "       164.14, 253.63, 102.87,  97.72, 158.3 , 100.85, 257.48, 178.09,\n",
       "       112.5 ,  72.94, 127.68, 135.68, 234.91, 106.79, 101.32,  75.55,\n",
       "       218.42, 272.91, 267.03, 214.61, 267.02, 247.65, 177.63, 188.02,\n",
       "       156.63, 176.91, 207.  , 138.04, 142.57, 168.42,  93.05, 117.91,\n",
       "       110.78, 247.26, 267.14, 138.15, 106.07,  90.5 , 123.71, 256.26,\n",
       "        91.39, 257.01, 319.68, 257.36, 129.37, 269.17, 211.07,  82.65,\n",
       "       165.36, 245.32, 166.67, 173.99, 123.58, 141.51, 248.02, 102.52,\n",
       "       255.11,  85.03, 190.78, 197.4 ,  67.71,  98.31,  96.94, 211.3 ,\n",
       "        68.54, 225.81, 157.98, 175.83, 190.74,  63.7 ,  77.19, 239.2 ,\n",
       "       255.61, 165.22,  60.79,  75.27, 275.61, 109.59, 161.7 , 114.3 ,\n",
       "       218.88, 223.88,  76.32, 157.54, 131.  ,  83.73, 153.42, 166.86,\n",
       "       237.32, 135.33, 153.25, 124.75, 128.61,  84.26, 243.19, 170.82,\n",
       "        97.19, 132.04, 114.72, 150.6 ,  79.55, 152.94, 142.43, 124.04,\n",
       "       130.88,  50.03, 188.83, 210.19, 225.87, 158.48, 178.23, 205.57,\n",
       "       188.99,  96.18, 169.74, 117.07,  95.59,  64.01,  76.88, 271.57,\n",
       "       236.02, 275.81, 189.37, 169.09,  78.01, 114.26, 198.21, 140.88,\n",
       "        79.05, 206.27,  83.97, 102.02, 140.89,  64.68, 212.7 , 131.74,\n",
       "       220.71, 107.58, 249.11, 129.49, 109.81,  78.4 , 200.56, 241.11,\n",
       "       275.63, 146.16,  81.53,  62.66, 163.02, 112.55,  95.59,  77.3 ,\n",
       "       245.87, 214.49, 283.89, 242.82, 105.64, 178.63, 288.28, 132.13,\n",
       "       275.76,  75.66, 108.83,  78.25,  56.44, 113.6 , 289.75, 104.1 ,\n",
       "       140.77, 107.71,  66.65, 126.99, 270.6 ,  87.81, 201.26, 140.95,\n",
       "       169.23, 222.82,  86.35, 117.46, 254.85,  72.92, 117.36, 171.04,\n",
       "       248.77, 105.76, 192.73, 146.84, 161.24, 209.92,  66.12, 193.81,\n",
       "        82.39, 110.87, 297.92, 241.36,  88.32, 186.14,  70.17, 106.69,\n",
       "        85.49,  57.36, 129.86,  90.4 , 262.77,  76.34, 204.04, 239.88,\n",
       "       203.47, 142.1 ,  72.01, 179.93, 103.56, 153.81, 152.9 , 167.58,\n",
       "       132.67, 189.58, 159.3 ,  92.73, 214.88, 178.99, 119.97, 195.93,\n",
       "       143.3 , 238.17, 251.84, 236.9 , 217.69, 208.7 , 147.54, 237.8 ,\n",
       "       113.8 , 120.52, 211.73, 156.21, 276.  , 170.26,  77.92,  89.12,\n",
       "       276.29, 110.05, 185.21, 113.26, 177.11, 221.6 , 177.22, 131.6 ,\n",
       "       175.7 , 135.15, 154.27,  98.37, 135.99,  91.64, 246.98,  81.79,\n",
       "        78.57, 119.08, 251.66,  72.62,  74.93, 199.48,  85.34, 259.42,\n",
       "       249.75, 147.96, 298.35,  94.15, 224.33, 193.  , 235.07, 249.93,\n",
       "       158.55, 161.85,  72.21, 197.27,  77.57, 145.66, 145.79, 194.74,\n",
       "       144.41, 205.73, 222.81,  77.55, 100.7 , 108.59, 176.19,  95.48,\n",
       "       105.25, 179.83,  86.68, 175.74, 139.29,  66.38, 270.16,  65.56,\n",
       "       109.18,  85.38, 250.59, 211.67,  59.84, 193.19, 223.26, 215.07,\n",
       "       176.93,  87.18, 163.62, 252.76, 245.93, 285.29,  74.54, 146.34,\n",
       "       194.29, 181.35, 186.28, 135.82, 262.56, 100.71, 147.14, 171.35,\n",
       "       235.7 ,  85.32, 105.03,  61.63, 135.22, 197.26, 221.72, 121.87,\n",
       "       131.65, 134.75, 141.32,  89.75, 299.87,  89.59, 158.88,  77.64,\n",
       "       199.31,  74.79,  63.85,  80.55,  59.51, 198.5 , 109.32, 116.03,\n",
       "       197.77,  79.87])"
      ]
     },
     "execution_count": 26,
     "metadata": {},
     "output_type": "execute_result"
    }
   ],
   "source": [
    "# 예측\n",
    "model_1.predict(x)"
   ]
  },
  {
   "cell_type": "code",
   "execution_count": 27,
   "id": "c448fd2f",
   "metadata": {},
   "outputs": [
    {
     "data": {
      "text/plain": [
       "['age', 'sex', 'bmi', 'bp', 's1', 's2', 's3', 's4', 's5', 's6']"
      ]
     },
     "execution_count": 27,
     "metadata": {},
     "output_type": "execute_result"
    }
   ],
   "source": [
    "feature"
   ]
  },
  {
   "cell_type": "code",
   "execution_count": 29,
   "id": "3b87a70d",
   "metadata": {},
   "outputs": [
    {
     "data": {
      "image/png": "[encoded data removed]",
      "text/plain": [
       "<Figure size 432x288 with 1 Axes>"
      ]
     },
     "metadata": {
      "needs_background": "light"
     },
     "output_type": "display_data"
    }
   ],
   "source": [
    "# 그래프 표시 - age\n",
    "plt.scatter(x[:,0], y, marker = '*', color = 'blue')\n",
    "plt.scatter(x[:,0], model_1.predict(x), marker = 'o', color = 'red')\n",
    "plt.show()"
   ]
  },
  {
   "cell_type": "code",
   "execution_count": 30,
   "id": "da253afd",
   "metadata": {},
   "outputs": [
    {
     "data": {
      "image/png": "[encoded data removed]",
      "text/plain": [
       "<Figure size 432x288 with 1 Axes>"
      ]
     },
     "metadata": {
      "needs_background": "light"
     },
     "output_type": "display_data"
    }
   ],
   "source": [
    "# 그래프 표시 - sex\n",
    "plt.scatter(x[:,1], y, marker = '*', color = 'blue')\n",
    "plt.scatter(x[:,1], model_1.predict(x), marker = 'o', color = 'red')\n",
    "plt.show()"
   ]
  },
  {
   "cell_type": "code",
   "execution_count": 31,
   "id": "ee20358b",
   "metadata": {},
   "outputs": [
    {
     "data": {
      "image/png": "[encoded data removed]",
      "text/plain": [
       "<Figure size 432x288 with 1 Axes>"
      ]
     },
     "metadata": {
      "needs_background": "light"
     },
     "output_type": "display_data"
    }
   ],
   "source": [
    "# 그래프 표시 - BMI\n",
    "plt.scatter(x[:,2], y, marker = '*', color = 'blue')\n",
    "plt.scatter(x[:,2], model_1.predict(x), marker = 'o', color = 'red')\n",
    "plt.show()"
   ]
  },
  {
   "cell_type": "code",
   "execution_count": null,
   "id": "7918808e",
   "metadata": {},
   "outputs": [],
   "source": []
  }
 ],
 "metadata": {
  "kernelspec": {
   "display_name": "Python 3",
   "language": "python",
   "name": "python3"
  },
  "language_info": {
   "codemirror_mode": {
    "name": "ipython",
    "version": 3
   },
   "file_extension": ".py",
   "mimetype": "text/x-python",
   "name": "python",
   "nbconvert_exporter": "python",
   "pygments_lexer": "ipython3",
   "version": "3.8.8"
  }
 },
 "nbformat": 4,
 "nbformat_minor": 5
}
