{
 "cells": [
  {
   "cell_type": "code",
   "execution_count": 1,
   "id": "dffed163",
   "metadata": {},
   "outputs": [
    {
     "name": "stdout",
     "output_type": "stream",
     "text": [
      "0.04288482666015625\n"
     ]
    }
   ],
   "source": [
    "# 넘파이 필요한가?\n",
    "import time\n",
    "time.time()\n",
    "sTime = time.time()\n",
    "L = range(100000)\n",
    "b = [i**2 for i in L]\n",
    "\n",
    "eTime = time.time()\n",
    "print(eTime - sTime)"
   ]
  },
  {
   "cell_type": "code",
   "execution_count": 2,
   "id": "c91de829",
   "metadata": {},
   "outputs": [],
   "source": [
    "import numpy as np"
   ]
  },
  {
   "cell_type": "code",
   "execution_count": 4,
   "id": "7c3a42f1",
   "metadata": {},
   "outputs": [
    {
     "name": "stdout",
     "output_type": "stream",
     "text": [
      "0.0009953975677490234\n"
     ]
    }
   ],
   "source": [
    "sTime = time.time()\n",
    "c = np.arange(100000)\n",
    "d = c**2\n",
    "\n",
    "eTime = time.time()\n",
    "print(eTime - sTime)"
   ]
  },
  {
   "cell_type": "code",
   "execution_count": 5,
   "id": "a7277684",
   "metadata": {},
   "outputs": [
    {
     "name": "stdout",
     "output_type": "stream",
     "text": [
      "<class 'numpy.ndarray'> 1 (3,)\n"
     ]
    }
   ],
   "source": [
    "# 배열 생성 및 정보 확인\n",
    "\n",
    "array = np.array([1,2,3])\n",
    "print(type(array), array.ndim, array.shape)"
   ]
  },
  {
   "cell_type": "code",
   "execution_count": 6,
   "id": "b322deda",
   "metadata": {},
   "outputs": [
    {
     "name": "stdout",
     "output_type": "stream",
     "text": [
      "<class 'numpy.ndarray'> 2 (2, 3)\n"
     ]
    }
   ],
   "source": [
    "array = np.array([[1,2,3],[4,5,6]])\n",
    "print(type(array), array.ndim, array.shape)"
   ]
  },
  {
   "cell_type": "code",
   "execution_count": 8,
   "id": "6fbd0a74",
   "metadata": {},
   "outputs": [
    {
     "name": "stdout",
     "output_type": "stream",
     "text": [
      "<class 'numpy.ndarray'> 3 (1, 3, 3)\n"
     ]
    }
   ],
   "source": [
    "array = np.array([[[1,2,3],[4,5,6],[7,8,9]]])\n",
    "print(type(array), array.ndim, array.shape)"
   ]
  },
  {
   "cell_type": "code",
   "execution_count": 3,
   "id": "fe044cdf",
   "metadata": {},
   "outputs": [
    {
     "name": "stdout",
     "output_type": "stream",
     "text": [
      "int32 [1 2 3]\n"
     ]
    }
   ],
   "source": [
    "# astype (자료형 변환)\n",
    "array = np.array([1,2,3])\n",
    "print(array.dtype, array)"
   ]
  },
  {
   "cell_type": "code",
   "execution_count": 4,
   "id": "81c63691",
   "metadata": {},
   "outputs": [
    {
     "name": "stdout",
     "output_type": "stream",
     "text": [
      "float64 [1. 2. 3.]\n"
     ]
    }
   ],
   "source": [
    "array = array.astype(np.float64)\n",
    "print(array.dtype, array)"
   ]
  },
  {
   "cell_type": "code",
   "execution_count": 5,
   "id": "13bcfd0f",
   "metadata": {},
   "outputs": [
    {
     "name": "stdout",
     "output_type": "stream",
     "text": [
      "bool [ True False  True]\n"
     ]
    }
   ],
   "source": [
    "array = np.array([1,0,1])\n",
    "array = array.astype('bool')\n",
    "print(array.dtype, array)"
   ]
  },
  {
   "cell_type": "code",
   "execution_count": 7,
   "id": "4bfd9079",
   "metadata": {},
   "outputs": [
    {
     "name": "stdout",
     "output_type": "stream",
     "text": [
      "[0 1 2 3 4 5 6 7 8 9]\n",
      "[1 2 3 4 5 6 7 8 9]\n",
      "[1 3 5 7 9]\n"
     ]
    }
   ],
   "source": [
    "# arange()\n",
    "\n",
    "print(np.arange(10))\n",
    "print(np.arange(1,10))\n",
    "print(np.arange(1,10,2))"
   ]
  },
  {
   "cell_type": "code",
   "execution_count": 9,
   "id": "52faa202",
   "metadata": {},
   "outputs": [
    {
     "name": "stdout",
     "output_type": "stream",
     "text": [
      "[ 1.  4.  7. 10.]\n",
      "[ 10.   5.   0.  -5. -10.]\n"
     ]
    }
   ],
   "source": [
    "# lispace() 구간 설정\n",
    "\n",
    "print(np.linspace(1,10,4))\n",
    "print(np.linspace(10,-10,5))"
   ]
  },
  {
   "cell_type": "code",
   "execution_count": 12,
   "id": "a98645a2",
   "metadata": {},
   "outputs": [
    {
     "name": "stdout",
     "output_type": "stream",
     "text": [
      "[0. 0. 0.]\n",
      "\n",
      "[[0. 0. 0.]\n",
      " [0. 0. 0.]]\n"
     ]
    }
   ],
   "source": [
    "print(np.zeros(3))\n",
    "print()\n",
    "print(np.zeros((2,3)))"
   ]
  },
  {
   "cell_type": "code",
   "execution_count": 13,
   "id": "8f4c1b35",
   "metadata": {},
   "outputs": [
    {
     "name": "stdout",
     "output_type": "stream",
     "text": [
      "[[1. 1. 1.]\n",
      " [1. 1. 1.]]\n"
     ]
    }
   ],
   "source": [
    "print(np.ones((2,3)))"
   ]
  },
  {
   "cell_type": "code",
   "execution_count": 14,
   "id": "6d4eb9bf",
   "metadata": {},
   "outputs": [
    {
     "name": "stdout",
     "output_type": "stream",
     "text": [
      "[['hi, multi' 'hi, multi' 'hi, multi']\n",
      " ['hi, multi' 'hi, multi' 'hi, multi']]\n"
     ]
    }
   ],
   "source": [
    "print(np.full((2,3), 'hi, multi'))"
   ]
  },
  {
   "cell_type": "markdown",
   "id": "ee9c60d3",
   "metadata": {},
   "source": [
    "### reshape(배열 차원 변경)"
   ]
  },
  {
   "cell_type": "code",
   "execution_count": 19,
   "id": "8711cdf5",
   "metadata": {},
   "outputs": [
    {
     "name": "stdout",
     "output_type": "stream",
     "text": [
      "[ 0  1  2  3  4  5  6  7  8  9 10 11 12 13 14 15 16 17 18 19]\n",
      "\n",
      "[[ 0  1  2  3  4  5  6  7  8  9]\n",
      " [10 11 12 13 14 15 16 17 18 19]]\n",
      "\n",
      "[[ 0  1  2  3  4  5  6  7  8  9]\n",
      " [10 11 12 13 14 15 16 17 18 19]]\n",
      "\n",
      "[[[ 0  1]\n",
      "  [ 2  3]]\n",
      "\n",
      " [[ 4  5]\n",
      "  [ 6  7]]\n",
      "\n",
      " [[ 8  9]\n",
      "  [10 11]]\n",
      "\n",
      " [[12 13]\n",
      "  [14 15]]\n",
      "\n",
      " [[16 17]\n",
      "  [18 19]]]\n"
     ]
    }
   ],
   "source": [
    "print(np.arange(20))\n",
    "array = np.arange(20)\n",
    "print()\n",
    "print(array.reshape(2,10))\n",
    "print()\n",
    "print(array.reshape(-1,10))\n",
    "print()\n",
    "print(array.reshape(5,2,-1))"
   ]
  },
  {
   "cell_type": "markdown",
   "id": "0c569628",
   "metadata": {},
   "source": [
    "### 인덱싱"
   ]
  },
  {
   "cell_type": "code",
   "execution_count": 20,
   "id": "26d2f776",
   "metadata": {},
   "outputs": [
    {
     "name": "stdout",
     "output_type": "stream",
     "text": [
      "[[5.1 3.5 1.4 0.2]\n",
      " [4.9 3.  1.4 0.2]\n",
      " [4.7 3.2 1.3 0.2]\n",
      " [4.6 3.1 1.5 0.2]\n",
      " [5.  3.6 1.4 0.2]\n",
      " [5.4 3.9 1.7 0.4]\n",
      " [4.6 3.4 1.4 0.3]\n",
      " [5.  3.4 1.5 0.2]\n",
      " [4.4 2.9 1.4 0.2]\n",
      " [4.9 3.1 1.5 0.1]\n",
      " [5.4 3.7 1.5 0.2]\n",
      " [4.8 3.4 1.6 0.2]\n",
      " [4.8 3.  1.4 0.1]\n",
      " [4.3 3.  1.1 0.1]\n",
      " [5.8 4.  1.2 0.2]\n",
      " [5.7 4.4 1.5 0.4]\n",
      " [5.4 3.9 1.3 0.4]\n",
      " [5.1 3.5 1.4 0.3]\n",
      " [5.7 3.8 1.7 0.3]\n",
      " [5.1 3.8 1.5 0.3]\n",
      " [5.4 3.4 1.7 0.2]\n",
      " [5.1 3.7 1.5 0.4]\n",
      " [4.6 3.6 1.  0.2]\n",
      " [5.1 3.3 1.7 0.5]\n",
      " [4.8 3.4 1.9 0.2]\n",
      " [5.  3.  1.6 0.2]\n",
      " [5.  3.4 1.6 0.4]\n",
      " [5.2 3.5 1.5 0.2]\n",
      " [5.2 3.4 1.4 0.2]\n",
      " [4.7 3.2 1.6 0.2]\n",
      " [4.8 3.1 1.6 0.2]\n",
      " [5.4 3.4 1.5 0.4]\n",
      " [5.2 4.1 1.5 0.1]\n",
      " [5.5 4.2 1.4 0.2]\n",
      " [4.9 3.1 1.5 0.2]\n",
      " [5.  3.2 1.2 0.2]\n",
      " [5.5 3.5 1.3 0.2]\n",
      " [4.9 3.6 1.4 0.1]\n",
      " [4.4 3.  1.3 0.2]\n",
      " [5.1 3.4 1.5 0.2]\n",
      " [5.  3.5 1.3 0.3]\n",
      " [4.5 2.3 1.3 0.3]\n",
      " [4.4 3.2 1.3 0.2]\n",
      " [5.  3.5 1.6 0.6]\n",
      " [5.1 3.8 1.9 0.4]\n",
      " [4.8 3.  1.4 0.3]\n",
      " [5.1 3.8 1.6 0.2]\n",
      " [4.6 3.2 1.4 0.2]\n",
      " [5.3 3.7 1.5 0.2]\n",
      " [5.  3.3 1.4 0.2]\n",
      " [7.  3.2 4.7 1.4]\n",
      " [6.4 3.2 4.5 1.5]\n",
      " [6.9 3.1 4.9 1.5]\n",
      " [5.5 2.3 4.  1.3]\n",
      " [6.5 2.8 4.6 1.5]\n",
      " [5.7 2.8 4.5 1.3]\n",
      " [6.3 3.3 4.7 1.6]\n",
      " [4.9 2.4 3.3 1. ]\n",
      " [6.6 2.9 4.6 1.3]\n",
      " [5.2 2.7 3.9 1.4]\n",
      " [5.  2.  3.5 1. ]\n",
      " [5.9 3.  4.2 1.5]\n",
      " [6.  2.2 4.  1. ]\n",
      " [6.1 2.9 4.7 1.4]\n",
      " [5.6 2.9 3.6 1.3]\n",
      " [6.7 3.1 4.4 1.4]\n",
      " [5.6 3.  4.5 1.5]\n",
      " [5.8 2.7 4.1 1. ]\n",
      " [6.2 2.2 4.5 1.5]\n",
      " [5.6 2.5 3.9 1.1]\n",
      " [5.9 3.2 4.8 1.8]\n",
      " [6.1 2.8 4.  1.3]\n",
      " [6.3 2.5 4.9 1.5]\n",
      " [6.1 2.8 4.7 1.2]\n",
      " [6.4 2.9 4.3 1.3]\n",
      " [6.6 3.  4.4 1.4]\n",
      " [6.8 2.8 4.8 1.4]\n",
      " [6.7 3.  5.  1.7]\n",
      " [6.  2.9 4.5 1.5]\n",
      " [5.7 2.6 3.5 1. ]\n",
      " [5.5 2.4 3.8 1.1]\n",
      " [5.5 2.4 3.7 1. ]\n",
      " [5.8 2.7 3.9 1.2]\n",
      " [6.  2.7 5.1 1.6]\n",
      " [5.4 3.  4.5 1.5]\n",
      " [6.  3.4 4.5 1.6]\n",
      " [6.7 3.1 4.7 1.5]\n",
      " [6.3 2.3 4.4 1.3]\n",
      " [5.6 3.  4.1 1.3]\n",
      " [5.5 2.5 4.  1.3]\n",
      " [5.5 2.6 4.4 1.2]\n",
      " [6.1 3.  4.6 1.4]\n",
      " [5.8 2.6 4.  1.2]\n",
      " [5.  2.3 3.3 1. ]\n",
      " [5.6 2.7 4.2 1.3]\n",
      " [5.7 3.  4.2 1.2]\n",
      " [5.7 2.9 4.2 1.3]\n",
      " [6.2 2.9 4.3 1.3]\n",
      " [5.1 2.5 3.  1.1]\n",
      " [5.7 2.8 4.1 1.3]\n",
      " [6.3 3.3 6.  2.5]\n",
      " [5.8 2.7 5.1 1.9]\n",
      " [7.1 3.  5.9 2.1]\n",
      " [6.3 2.9 5.6 1.8]\n",
      " [6.5 3.  5.8 2.2]\n",
      " [7.6 3.  6.6 2.1]\n",
      " [4.9 2.5 4.5 1.7]\n",
      " [7.3 2.9 6.3 1.8]\n",
      " [6.7 2.5 5.8 1.8]\n",
      " [7.2 3.6 6.1 2.5]\n",
      " [6.5 3.2 5.1 2. ]\n",
      " [6.4 2.7 5.3 1.9]\n",
      " [6.8 3.  5.5 2.1]\n",
      " [5.7 2.5 5.  2. ]\n",
      " [5.8 2.8 5.1 2.4]\n",
      " [6.4 3.2 5.3 2.3]\n",
      " [6.5 3.  5.5 1.8]\n",
      " [7.7 3.8 6.7 2.2]\n",
      " [7.7 2.6 6.9 2.3]\n",
      " [6.  2.2 5.  1.5]\n",
      " [6.9 3.2 5.7 2.3]\n",
      " [5.6 2.8 4.9 2. ]\n",
      " [7.7 2.8 6.7 2. ]\n",
      " [6.3 2.7 4.9 1.8]\n",
      " [6.7 3.3 5.7 2.1]\n",
      " [7.2 3.2 6.  1.8]\n",
      " [6.2 2.8 4.8 1.8]\n",
      " [6.1 3.  4.9 1.8]\n",
      " [6.4 2.8 5.6 2.1]\n",
      " [7.2 3.  5.8 1.6]\n",
      " [7.4 2.8 6.1 1.9]\n",
      " [7.9 3.8 6.4 2. ]\n",
      " [6.4 2.8 5.6 2.2]\n",
      " [6.3 2.8 5.1 1.5]\n",
      " [6.1 2.6 5.6 1.4]\n",
      " [7.7 3.  6.1 2.3]\n",
      " [6.3 3.4 5.6 2.4]\n",
      " [6.4 3.1 5.5 1.8]\n",
      " [6.  3.  4.8 1.8]\n",
      " [6.9 3.1 5.4 2.1]\n",
      " [6.7 3.1 5.6 2.4]\n",
      " [6.9 3.1 5.1 2.3]\n",
      " [5.8 2.7 5.1 1.9]\n",
      " [6.8 3.2 5.9 2.3]\n",
      " [6.7 3.3 5.7 2.5]\n",
      " [6.7 3.  5.2 2.3]\n",
      " [6.3 2.5 5.  1.9]\n",
      " [6.5 3.  5.2 2. ]\n",
      " [6.2 3.4 5.4 2.3]\n",
      " [5.9 3.  5.1 1.8]]\n"
     ]
    }
   ],
   "source": [
    "from sklearn.datasets import load_iris\n",
    "iris = load_iris()\n",
    "print(iris.data)"
   ]
  },
  {
   "cell_type": "code",
   "execution_count": 21,
   "id": "33ba9bec",
   "metadata": {},
   "outputs": [
    {
     "name": "stdout",
     "output_type": "stream",
     "text": [
      "[0 0 0 0 0 0 0 0 0 0 0 0 0 0 0 0 0 0 0 0 0 0 0 0 0 0 0 0 0 0 0 0 0 0 0 0 0\n",
      " 0 0 0 0 0 0 0 0 0 0 0 0 0 1 1 1 1 1 1 1 1 1 1 1 1 1 1 1 1 1 1 1 1 1 1 1 1\n",
      " 1 1 1 1 1 1 1 1 1 1 1 1 1 1 1 1 1 1 1 1 1 1 1 1 1 1 2 2 2 2 2 2 2 2 2 2 2\n",
      " 2 2 2 2 2 2 2 2 2 2 2 2 2 2 2 2 2 2 2 2 2 2 2 2 2 2 2 2 2 2 2 2 2 2 2 2 2\n",
      " 2 2]\n"
     ]
    }
   ],
   "source": [
    "print(iris.target)"
   ]
  },
  {
   "cell_type": "code",
   "execution_count": 22,
   "id": "00d5f183",
   "metadata": {
    "scrolled": true
   },
   "outputs": [
    {
     "name": "stdout",
     "output_type": "stream",
     "text": [
      ".. _iris_dataset:\n",
      "\n",
      "Iris plants dataset\n",
      "--------------------\n",
      "\n",
      "**Data Set Characteristics:**\n",
      "\n",
      "    :Number of Instances: 150 (50 in each of three classes)\n",
      "    :Number of Attributes: 4 numeric, predictive attributes and the class\n",
      "    :Attribute Information:\n",
      "        - sepal length in cm\n",
      "        - sepal width in cm\n",
      "        - petal length in cm\n",
      "        - petal width in cm\n",
      "        - class:\n",
      "                - Iris-Setosa\n",
      "                - Iris-Versicolour\n",
      "                - Iris-Virginica\n",
      "                \n",
      "    :Summary Statistics:\n",
      "\n",
      "    ============== ==== ==== ======= ===== ====================\n",
      "                    Min  Max   Mean    SD   Class Correlation\n",
      "    ============== ==== ==== ======= ===== ====================\n",
      "    sepal length:   4.3  7.9   5.84   0.83    0.7826\n",
      "    sepal width:    2.0  4.4   3.05   0.43   -0.4194\n",
      "    petal length:   1.0  6.9   3.76   1.76    0.9490  (high!)\n",
      "    petal width:    0.1  2.5   1.20   0.76    0.9565  (high!)\n",
      "    ============== ==== ==== ======= ===== ====================\n",
      "\n",
      "    :Missing Attribute Values: None\n",
      "    :Class Distribution: 33.3% for each of 3 classes.\n",
      "    :Creator: R.A. Fisher\n",
      "    :Donor: Michael Marshall (MARSHALL%PLU@io.arc.nasa.gov)\n",
      "    :Date: July, 1988\n",
      "\n",
      "The famous Iris database, first used by Sir R.A. Fisher. The dataset is taken\n",
      "from Fisher's paper. Note that it's the same as in R, but not as in the UCI\n",
      "Machine Learning Repository, which has two wrong data points.\n",
      "\n",
      "This is perhaps the best known database to be found in the\n",
      "pattern recognition literature.  Fisher's paper is a classic in the field and\n",
      "is referenced frequently to this day.  (See Duda & Hart, for example.)  The\n",
      "data set contains 3 classes of 50 instances each, where each class refers to a\n",
      "type of iris plant.  One class is linearly separable from the other 2; the\n",
      "latter are NOT linearly separable from each other.\n",
      "\n",
      ".. topic:: References\n",
      "\n",
      "   - Fisher, R.A. \"The use of multiple measurements in taxonomic problems\"\n",
      "     Annual Eugenics, 7, Part II, 179-188 (1936); also in \"Contributions to\n",
      "     Mathematical Statistics\" (John Wiley, NY, 1950).\n",
      "   - Duda, R.O., & Hart, P.E. (1973) Pattern Classification and Scene Analysis.\n",
      "     (Q327.D83) John Wiley & Sons.  ISBN 0-471-22361-1.  See page 218.\n",
      "   - Dasarathy, B.V. (1980) \"Nosing Around the Neighborhood: A New System\n",
      "     Structure and Classification Rule for Recognition in Partially Exposed\n",
      "     Environments\".  IEEE Transactions on Pattern Analysis and Machine\n",
      "     Intelligence, Vol. PAMI-2, No. 1, 67-71.\n",
      "   - Gates, G.W. (1972) \"The Reduced Nearest Neighbor Rule\".  IEEE Transactions\n",
      "     on Information Theory, May 1972, 431-433.\n",
      "   - See also: 1988 MLC Proceedings, 54-64.  Cheeseman et al\"s AUTOCLASS II\n",
      "     conceptual clustering system finds 3 classes in the data.\n",
      "   - Many, many more ...\n"
     ]
    }
   ],
   "source": [
    "print(iris.DESCR)"
   ]
  },
  {
   "cell_type": "code",
   "execution_count": null,
   "id": "9e5a25da",
   "metadata": {},
   "outputs": [],
   "source": [
    "# 인덱싱 기법\n",
    "# 단일값 추출 : 특정한 위치 데이터 선택 \n",
    "# 슬라이싱(slicing): 연속된 인덱스 위치 데이터 선택 \n",
    "# 팬시 인덱싱(fancy indexing): 인덱스 집합 >>> 리스트 형태로 지정, 데이터 선택 \n",
    "# 불린 인덱싱(boolean indexing): True / False 기반, True 에 해당하는 인덱스 위치 데이터 선택"
   ]
  },
  {
   "cell_type": "code",
   "execution_count": 23,
   "id": "a31c831f",
   "metadata": {},
   "outputs": [
    {
     "data": {
      "text/plain": [
       "(150, 4)"
      ]
     },
     "execution_count": 23,
     "metadata": {},
     "output_type": "execute_result"
    }
   ],
   "source": [
    "iris.data.shape # 150행, 4개 열(속성)"
   ]
  },
  {
   "cell_type": "code",
   "execution_count": 24,
   "id": "edaaa575",
   "metadata": {},
   "outputs": [
    {
     "data": {
      "text/plain": [
       "(150,)"
      ]
     },
     "execution_count": 24,
     "metadata": {},
     "output_type": "execute_result"
    }
   ],
   "source": [
    "iris.target.shape"
   ]
  },
  {
   "cell_type": "code",
   "execution_count": 26,
   "id": "f8ba11c0",
   "metadata": {},
   "outputs": [
    {
     "name": "stdout",
     "output_type": "stream",
     "text": [
      "0 2\n",
      "[0 1]\n"
     ]
    }
   ],
   "source": [
    "print(iris.target[49], iris.target[149])\n",
    "print(iris.target[49:51]) # fancy indexing"
   ]
  },
  {
   "cell_type": "code",
   "execution_count": 31,
   "id": "ba1dc138",
   "metadata": {},
   "outputs": [
    {
     "data": {
      "text/plain": [
       "array([0., 0., 0., 0., 0., 0., 0., 0., 0., 0., 0., 0., 0., 0., 0., 0., 0.,\n",
       "       0., 0., 0., 0., 0., 0., 0., 0., 0., 0., 0., 0., 0., 0., 0., 0., 0.,\n",
       "       0., 0., 0., 0., 0., 0., 0., 0., 0., 0., 0., 0., 0., 0., 0., 0., 0.,\n",
       "       0., 0., 0., 0., 0., 0., 0., 0., 0., 0., 0., 0., 0., 0., 0., 0., 0.,\n",
       "       0., 0., 0., 0., 0., 0., 0., 0., 0., 0., 0., 0., 0., 0., 0., 0., 0.,\n",
       "       0., 0., 0., 0., 0., 0., 0., 0., 0., 0., 0., 0., 0., 0., 0., 0., 0.,\n",
       "       0., 0., 0., 0., 0., 0., 0., 0., 0., 0., 0., 0., 0., 0., 0., 0., 0.,\n",
       "       0., 0., 0., 0., 0., 0., 0., 0., 0., 0., 0., 0., 0., 0., 0., 0., 0.,\n",
       "       0., 0., 0., 0., 0., 0., 0., 0., 0., 0., 0., 0., 0., 1.])"
      ]
     },
     "execution_count": 31,
     "metadata": {},
     "output_type": "execute_result"
    }
   ],
   "source": [
    "nplist = np.concatenate((np.zeros(149), np.ones(1)))\n",
    "nplist"
   ]
  },
  {
   "cell_type": "code",
   "execution_count": 30,
   "id": "36fb7e22",
   "metadata": {},
   "outputs": [
    {
     "name": "stdout",
     "output_type": "stream",
     "text": [
      "[0 0 0 0 0 0 0 0 0 0 0 0 0 0 0 0 0 0 0 0 0 0 0 0 0 0 0 0 0 0 0 0 0 0 0 0 0\n",
      " 0 0 0 0 0 0 0 0 0 0 0 0 0 1 1 1 1 1 1 1 1 1 1 1 1 1 1 1 1 1 1 1 1 1 1 1 1\n",
      " 1 1 1 1 1 1 1 1 1 1 1 1 1 1 1 1 1 1 1 1 1 1 1 1 1 1 2 2 2 2 2 2 2 2 2 2 2\n",
      " 2 2 2 2 2 2 2 2 2 2 2 2 2 2 2 2 2 2 2 2 2 2 2 2 2 2 2 2 2 2 2 2 2 2 2 2 2\n",
      " 2 2]\n"
     ]
    }
   ],
   "source": [
    "nplist = nplist.astype('bool')\n",
    "print(iris.target)\n",
    "iris.target"
   ]
  },
  {
   "cell_type": "code",
   "execution_count": 32,
   "id": "cd19cc6b",
   "metadata": {},
   "outputs": [
    {
     "data": {
      "text/plain": [
       "array([[5.1, 3.5, 1.4, 0.2],\n",
       "       [4.9, 3. , 1.4, 0.2],\n",
       "       [4.7, 3.2, 1.3, 0.2],\n",
       "       [4.6, 3.1, 1.5, 0.2],\n",
       "       [5. , 3.6, 1.4, 0.2]])"
      ]
     },
     "execution_count": 32,
     "metadata": {},
     "output_type": "execute_result"
    }
   ],
   "source": [
    "iris.data[:5]"
   ]
  },
  {
   "cell_type": "code",
   "execution_count": 37,
   "id": "e96aeb72",
   "metadata": {},
   "outputs": [
    {
     "name": "stdout",
     "output_type": "stream",
     "text": [
      "5.1 3.5\n",
      "[5.1 4.9]\n",
      "[[5.1 3.5 1.4 0.2]\n",
      " [4.9 3.  1.4 0.2]]\n",
      "[[5.1 3.5 1.4 0.2]\n",
      " [4.9 3.  1.4 0.2]]\n",
      "[0.2 0.2]\n"
     ]
    }
   ],
   "source": [
    "print(iris.data[0,0], iris.data[0,1])\n",
    "print(iris.data[0:2, 0])\n",
    "print(iris.data[0:2])\n",
    "print(iris.data[0:2, :])\n",
    "print(iris.data[0:2,-1])"
   ]
  },
  {
   "cell_type": "code",
   "execution_count": 41,
   "id": "bfa71dbc",
   "metadata": {},
   "outputs": [
    {
     "name": "stdout",
     "output_type": "stream",
     "text": [
      "[[5.9 3.  5.1 1.8]\n",
      " [5.7 2.8 4.1 1.3]\n",
      " [5.  3.3 1.4 0.2]]\n",
      "[[5.9 3. ]\n",
      " [5.7 2.8]\n",
      " [5.  3.3]]\n",
      "[0.2 3.5]\n"
     ]
    }
   ],
   "source": [
    "print(iris.data[[149,99,49]])\n",
    "print(iris.data[[149,99,49], 0:2])\n",
    "print(iris.data[0,[3,1]])"
   ]
  },
  {
   "cell_type": "code",
   "execution_count": 43,
   "id": "93c20388",
   "metadata": {},
   "outputs": [
    {
     "name": "stdout",
     "output_type": "stream",
     "text": [
      "[[7.1 3.  5.9 2.1]\n",
      " [7.6 3.  6.6 2.1]\n",
      " [7.3 2.9 6.3 1.8]\n",
      " [7.2 3.6 6.1 2.5]\n",
      " [7.7 3.8 6.7 2.2]\n",
      " [7.7 2.6 6.9 2.3]\n",
      " [7.7 2.8 6.7 2. ]\n",
      " [7.2 3.2 6.  1.8]\n",
      " [7.2 3.  5.8 1.6]\n",
      " [7.4 2.8 6.1 1.9]\n",
      " [7.9 3.8 6.4 2. ]\n",
      " [7.7 3.  6.1 2.3]]\n",
      "\n",
      "[[7.1 3. ]\n",
      " [7.6 3. ]\n",
      " [7.3 2.9]\n",
      " [7.2 3.6]\n",
      " [7.7 3.8]\n",
      " [7.7 2.6]\n",
      " [7.7 2.8]\n",
      " [7.2 3.2]\n",
      " [7.2 3. ]\n",
      " [7.4 2.8]\n",
      " [7.9 3.8]\n",
      " [7.7 3. ]]\n"
     ]
    }
   ],
   "source": [
    "print(iris.data[iris.data[:,0] > 7])\n",
    "print()\n",
    "print(iris.data[iris.data[:,0]>7, 0:2])"
   ]
  },
  {
   "cell_type": "code",
   "execution_count": 44,
   "id": "cd4ded44",
   "metadata": {},
   "outputs": [
    {
     "name": "stdout",
     "output_type": "stream",
     "text": [
      "[89.7 37.5]\n",
      "\n",
      "[10.1 10.6 10.2 10.8 11.5 10.3 10.5 10.4 10.2 10.2 11.7 10.7]\n"
     ]
    }
   ],
   "source": [
    "print(np.sum(iris.data[iris.data[:,0]>7, 0:2], axis = 0))\n",
    "print()\n",
    "print(np.sum(iris.data[iris.data[:,0]>7, 0:2], axis = 1))"
   ]
  },
  {
   "cell_type": "code",
   "execution_count": 45,
   "id": "e66724ca",
   "metadata": {},
   "outputs": [
    {
     "name": "stdout",
     "output_type": "stream",
     "text": [
      "[0 1 2]\n",
      "\n",
      "(array([0, 1, 2]), array([50, 50, 50], dtype=int64))\n"
     ]
    }
   ],
   "source": [
    "# unique()\n",
    "print(np.unique(iris.target))\n",
    "print()\n",
    "print(np.unique(iris.target, return_counts = True))"
   ]
  },
  {
   "cell_type": "markdown",
   "id": "69ef844b",
   "metadata": {},
   "source": [
    "### 정렬"
   ]
  },
  {
   "cell_type": "code",
   "execution_count": null,
   "id": "91e46a30",
   "metadata": {},
   "outputs": [],
   "source": [
    "# np.sort(array): 넘파이 sort() 호출, 원래 있는 array 유지, 정렬된 array 반환 \n",
    "# array.sort(): array의 sort()호출 >>> 원래 있던 array 정렬되어서 변환"
   ]
  },
  {
   "cell_type": "code",
   "execution_count": 48,
   "id": "8374955d",
   "metadata": {},
   "outputs": [
    {
     "name": "stdout",
     "output_type": "stream",
     "text": [
      "[4.7 4.9 5.1]\n",
      "[5.1 4.9 4.7]\n"
     ]
    }
   ],
   "source": [
    "array = iris.data[0:3, 0]\n",
    "sort_array = np.sort(array)\n",
    "\n",
    "print(sort_array)\n",
    "print(array)"
   ]
  },
  {
   "cell_type": "code",
   "execution_count": 52,
   "id": "f603945a",
   "metadata": {},
   "outputs": [
    {
     "name": "stdout",
     "output_type": "stream",
     "text": [
      "[[3.2 1.3 0.2]\n",
      " [3.1 1.5 0.2]]\n",
      "\n",
      "[[3.1 1.3 0.2]\n",
      " [3.2 1.5 0.2]]\n",
      "\n",
      "[[0.2 1.3 3.2]\n",
      " [0.2 1.5 3.1]]\n"
     ]
    }
   ],
   "source": [
    "array = iris.data[2:4, 1:4]\n",
    "print(array)\n",
    "print()\n",
    "print(np.sort(array, axis = 0))\n",
    "print()\n",
    "print(np.sort(array, axis = 1))"
   ]
  },
  {
   "cell_type": "markdown",
   "id": "3b6055f8",
   "metadata": {},
   "source": [
    "### 행렬연산"
   ]
  },
  {
   "cell_type": "code",
   "execution_count": null,
   "id": "1562d468",
   "metadata": {},
   "outputs": [],
   "source": [
    "# broadcast 연산 : 배열의 각 원소(element) 마다 연산\n",
    "# 전치 : np.transpose(array) 또는 array.transpose() 또는 array.T\n",
    "# 내적 연산 : np.dot(array1, array2) 또는 array1.dot(array2) 또는 array1 @ array2\n",
    "# 1차원 배열은 전치와 무관하게 내적 연산 가능"
   ]
  },
  {
   "cell_type": "code",
   "execution_count": 57,
   "id": "708ec40f",
   "metadata": {},
   "outputs": [
    {
     "name": "stdout",
     "output_type": "stream",
     "text": [
      "[[1 1 1]\n",
      " [1 1 1]]\n",
      "\n",
      "[[2 2 2]\n",
      " [2 2 2]]\n",
      "\n",
      "[[3 3 3]\n",
      " [3 3 3]]\n",
      "\n",
      "[[1. 1. 1.]\n",
      " [1. 1. 1.]]\n",
      "\n",
      "[[5 5 5]\n",
      " [5 5 5]]\n"
     ]
    }
   ],
   "source": [
    "array1 = np.full((2,3),1)\n",
    "print(array1)\n",
    "print()\n",
    "array2 = np.full((2,3),2)\n",
    "print(array2)\n",
    "print()\n",
    "print(array1 * 3)\n",
    "print()\n",
    "print(array2 / 2)\n",
    "print()\n",
    "print(array2 + 3)"
   ]
  },
  {
   "cell_type": "code",
   "execution_count": 59,
   "id": "e75162d4",
   "metadata": {},
   "outputs": [
    {
     "data": {
      "text/plain": [
       "array([[2, 2],\n",
       "       [2, 2],\n",
       "       [2, 2]])"
      ]
     },
     "execution_count": 59,
     "metadata": {},
     "output_type": "execute_result"
    }
   ],
   "source": [
    "t_array2 = np.transpose(array2)\n",
    "t_array2"
   ]
  },
  {
   "cell_type": "code",
   "execution_count": 60,
   "id": "4f67786b",
   "metadata": {},
   "outputs": [
    {
     "data": {
      "text/plain": [
       "array([[6, 6],\n",
       "       [6, 6]])"
      ]
     },
     "execution_count": 60,
     "metadata": {},
     "output_type": "execute_result"
    }
   ],
   "source": [
    "np.dot(array1, t_array2)"
   ]
  },
  {
   "cell_type": "markdown",
   "id": "4f901ca3",
   "metadata": {},
   "source": [
    "### Random"
   ]
  },
  {
   "cell_type": "code",
   "execution_count": null,
   "id": "91dda51a",
   "metadata": {},
   "outputs": [],
   "source": [
    "# np.random.randint() : 균일분포 정수 난수\n",
    "# np.random.rand() : 0 ~ 1 균일분포\n",
    "# np.random.randn() : 표준정규분포(n : normalization)\n",
    "# np.random.normal() : 정규분포"
   ]
  },
  {
   "cell_type": "code",
   "execution_count": 61,
   "id": "f9700e4b",
   "metadata": {},
   "outputs": [
    {
     "data": {
      "text/plain": [
       "array([[3, 1, 4, 3, 3],\n",
       "       [1, 4, 2, 3, 4],\n",
       "       [4, 2, 4, 1, 3],\n",
       "       [2, 1, 4, 2, 2],\n",
       "       [3, 2, 2, 2, 1],\n",
       "       [4, 1, 4, 3, 4],\n",
       "       [2, 4, 2, 4, 4],\n",
       "       [2, 3, 1, 2, 4],\n",
       "       [1, 3, 3, 3, 4],\n",
       "       [2, 2, 3, 3, 1]])"
      ]
     },
     "execution_count": 61,
     "metadata": {},
     "output_type": "execute_result"
    }
   ],
   "source": [
    "np.random.randint(1, 5, size = (10, 5))"
   ]
  },
  {
   "cell_type": "code",
   "execution_count": 62,
   "id": "79868d78",
   "metadata": {},
   "outputs": [
    {
     "data": {
      "text/plain": [
       "array([[0.63403334, 0.35642743, 0.95855912, 0.10454834, 0.23573239],\n",
       "       [0.67246466, 0.28757998, 0.14657075, 0.34860349, 0.29590524],\n",
       "       [0.94088977, 0.4453525 , 0.24922239, 0.08693163, 0.25653143],\n",
       "       [0.62101646, 0.87724456, 0.68774768, 0.49237915, 0.26654266],\n",
       "       [0.77909982, 0.64090451, 0.22256173, 0.22066023, 0.03133164],\n",
       "       [0.3406935 , 0.84576421, 0.56244946, 0.83258624, 0.78670263],\n",
       "       [0.96178977, 0.57918997, 0.15648271, 0.45954574, 0.76680604],\n",
       "       [0.18196746, 0.19301562, 0.01504546, 0.87720745, 0.98676615],\n",
       "       [0.81417423, 0.29743345, 0.7819626 , 0.802809  , 0.87254466],\n",
       "       [0.61417326, 0.19477889, 0.36120364, 0.85014921, 0.81388236]])"
      ]
     },
     "execution_count": 62,
     "metadata": {},
     "output_type": "execute_result"
    }
   ],
   "source": [
    "np.random.rand(10,5)"
   ]
  },
  {
   "cell_type": "code",
   "execution_count": 63,
   "id": "7fea280b",
   "metadata": {},
   "outputs": [
    {
     "data": {
      "text/plain": [
       "array([[-0.89937183,  0.50363019,  0.79689796, -0.0260283 ,  1.33648978],\n",
       "       [-0.96552792, -0.58698431,  0.37786645,  1.8117688 ,  0.49561314],\n",
       "       [-2.18662963, -0.1134676 , -1.32885107, -0.58486065, -0.62054899],\n",
       "       [ 0.00524287, -0.4294729 ,  0.07095214,  0.2167679 , -0.1431731 ],\n",
       "       [ 0.24028268, -0.7191295 ,  1.84284221,  0.87041308,  0.26651298],\n",
       "       [-1.65122106, -0.13168656,  1.3523579 ,  0.29445984, -0.07713377],\n",
       "       [-0.92324798, -1.14544224,  2.237034  , -0.52642176,  0.76036489],\n",
       "       [ 0.18150368,  0.55180183, -1.31100617, -0.32766786,  0.26906372],\n",
       "       [-0.80214985, -1.69248901,  0.99410966, -0.69997984, -0.05471858],\n",
       "       [ 1.60219936,  0.23466395, -0.2440066 ,  2.05486356, -0.18911274]])"
      ]
     },
     "execution_count": 63,
     "metadata": {},
     "output_type": "execute_result"
    }
   ],
   "source": [
    "np.random.randn(10,5)"
   ]
  },
  {
   "cell_type": "code",
   "execution_count": 64,
   "id": "bdd08fa8",
   "metadata": {},
   "outputs": [
    {
     "data": {
      "text/plain": [
       "array([[ 6.87703714, -0.39270222,  5.91560657,  5.46204265,  5.04892904],\n",
       "       [ 6.10100105,  9.26568962,  2.19800367,  2.5628482 ,  4.16065255],\n",
       "       [ 7.30876731,  5.87133692,  5.60507796,  6.32050308,  5.07507606],\n",
       "       [ 8.23255557,  0.31199323,  3.96427691,  6.91607665,  3.23385859],\n",
       "       [ 5.74051144,  9.54917046,  8.27652102,  6.39464298,  6.90871623],\n",
       "       [ 5.80711902,  4.13585952,  6.06445384,  5.14173771,  0.02523072],\n",
       "       [ 4.73117879,  6.34986831,  0.9249971 ,  3.14922496,  4.69376139],\n",
       "       [ 7.33493893,  5.61530173,  3.22482549,  3.54862688,  6.69220678],\n",
       "       [ 7.22609098,  7.23739059,  3.39258302,  4.30517547, 10.27112546],\n",
       "       [ 2.27615953,  4.33499693,  4.61502388,  3.0176512 ,  3.75687158]])"
      ]
     },
     "execution_count": 64,
     "metadata": {},
     "output_type": "execute_result"
    }
   ],
   "source": [
    "np.random.normal(5,3,(10,5)) # 평균, 표준편차"
   ]
  },
  {
   "cell_type": "code",
   "execution_count": 65,
   "id": "71bd205a",
   "metadata": {},
   "outputs": [
    {
     "name": "stdout",
     "output_type": "stream",
     "text": [
      "4.3957388743245085 3.2401807215010887 -3.0355738214645225 11.157446171825214\n"
     ]
    }
   ],
   "source": [
    "x = np.random.normal(5,3,(10,5))\n",
    "print(np.mean(x), np.std(x), x.min(), x.max())"
   ]
  },
  {
   "cell_type": "markdown",
   "id": "9a9f9f08",
   "metadata": {},
   "source": [
    "### matplotlib : 연속형 데이터 탐색적 분석"
   ]
  },
  {
   "cell_type": "code",
   "execution_count": null,
   "id": "c8937fe4",
   "metadata": {},
   "outputs": [],
   "source": [
    "# hist()\n",
    "# boxplot()"
   ]
  },
  {
   "cell_type": "code",
   "execution_count": 67,
   "id": "8b913151",
   "metadata": {},
   "outputs": [
    {
     "data": {
      "image/png": "[encoded data removed]",
      "text/plain": [
       "<Figure size 432x288 with 1 Axes>"
      ]
     },
     "metadata": {
      "needs_background": "light"
     },
     "output_type": "display_data"
    }
   ],
   "source": [
    "import matplotlib.pyplot as plt\n",
    "plt.hist(iris.data[:,0],color = 'g')\n",
    "plt.show()"
   ]
  },
  {
   "cell_type": "code",
   "execution_count": 70,
   "id": "6c04e79d",
   "metadata": {},
   "outputs": [
    {
     "data": {
      "image/png": "[encoded data removed]",
      "text/plain": [
       "<Figure size 432x288 with 1 Axes>"
      ]
     },
     "metadata": {
      "needs_background": "light"
     },
     "output_type": "display_data"
    }
   ],
   "source": [
    "plt.boxplot(iris.data[:,0])\n",
    "plt.show()"
   ]
  },
  {
   "cell_type": "code",
   "execution_count": 72,
   "id": "d95cf0e3",
   "metadata": {},
   "outputs": [
    {
     "name": "stdout",
     "output_type": "stream",
     "text": [
      "['maxbox' 'percent75' 'median' 'percent25' 'minbox'] \n",
      " [8.35 6.4  5.8  5.1  3.15]\n"
     ]
    }
   ],
   "source": [
    "def box_DESC(x):\n",
    "    median = np.median(x)   # 50%\n",
    "    percent25 = np.percentile(x, 25)\n",
    "    percent75 = np.percentile(x, 75)\n",
    "    IQR = percent75 - percent25\n",
    "    beard = IQR*1.5\n",
    "    maxbox = percent75 + beard\n",
    "    minbox = percent25 - beard\n",
    "    X = np.array(['maxbox', 'percent75', 'median', 'percent25', 'minbox'])\n",
    "    Y = np.array([maxbox, percent75, median, percent25, minbox])\n",
    "    print(X, '\\n', Y)\n",
    "box_DESC(iris.data[:,0])"
   ]
  },
  {
   "cell_type": "code",
   "execution_count": null,
   "id": "fddd9c65",
   "metadata": {},
   "outputs": [],
   "source": []
  }
 ],
 "metadata": {
  "kernelspec": {
   "display_name": "Python 3",
   "language": "python",
   "name": "python3"
  },
  "language_info": {
   "codemirror_mode": {
    "name": "ipython",
    "version": 3
   },
   "file_extension": ".py",
   "mimetype": "text/x-python",
   "name": "python",
   "nbconvert_exporter": "python",
   "pygments_lexer": "ipython3",
   "version": "3.8.8"
  }
 },
 "nbformat": 4,
 "nbformat_minor": 5
}
