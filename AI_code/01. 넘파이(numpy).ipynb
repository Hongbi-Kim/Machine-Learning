{
 "cells": [
  {
   "cell_type": "code",
   "execution_count": 1,
   "id": "dffed163",
   "metadata": {},
   "outputs": [
    {
     "name": "stdout",
     "output_type": "stream",
     "text": [
      "0.04288482666015625\n"
     ]
    }
   ],
   "source": [
    "# 넘파이 필요한가?\n",
    "import time\n",
    "time.time()\n",
    "sTime = time.time()\n",
    "L = range(100000)\n",
    "b = [i**2 for i in L]\n",
    "\n",
    "eTime = time.time()\n",
    "print(eTime - sTime)"
   ]
  },
  {
   "cell_type": "code",
   "execution_count": 4,
   "id": "7c3a42f1",
   "metadata": {},
   "outputs": [
    {
     "name": "stdout",
     "output_type": "stream",
     "text": [
      "0.0009953975677490234\n"
     ]
    }
   ],
   "source": [
    "import numpy as np\n",
    "sTime = time.time()\n",
    "c = np.arange(100000)\n",
    "d = c**2\n",
    "\n",
    "eTime = time.time()\n",
    "print(eTime - sTime)"
   ]
  },
  {
   "cell_type": "code",
   "execution_count": 5,
   "id": "a7277684",
   "metadata": {},
   "outputs": [
    {
     "name": "stdout",
     "output_type": "stream",
     "text": [
      "<class 'numpy.ndarray'> 1 (3,)\n"
     ]
    }
   ],
   "source": [
    "# 배열 생성 및 정보 확인\n",
    "\n",
    "array = np.array([1,2,3])\n",
    "print(type(array), array.ndim, array.shape)"
   ]
  },
  {
   "cell_type": "code",
   "execution_count": 6,
   "id": "b322deda",
   "metadata": {},
   "outputs": [
    {
     "name": "stdout",
     "output_type": "stream",
     "text": [
      "<class 'numpy.ndarray'> 2 (2, 3)\n"
     ]
    }
   ],
   "source": [
    "array = np.array([[1,2,3],[4,5,6]])\n",
    "print(type(array), array.ndim, array.shape)"
   ]
  },
  {
   "cell_type": "code",
   "execution_count": 8,
   "id": "6fbd0a74",
   "metadata": {},
   "outputs": [
    {
     "name": "stdout",
     "output_type": "stream",
     "text": [
      "<class 'numpy.ndarray'> 3 (1, 3, 3)\n"
     ]
    }
   ],
   "source": [
    "array = np.array([[[1,2,3],[4,5,6],[7,8,9]]])\n",
    "print(type(array), array.ndim, array.shape)"
   ]
  },
  {
   "cell_type": "code",
   "execution_count": null,
   "id": "fe044cdf",
   "metadata": {},
   "outputs": [],
   "source": []
  }
 ],
 "metadata": {
  "kernelspec": {
   "display_name": "Python 3",
   "language": "python",
   "name": "python3"
  },
  "language_info": {
   "codemirror_mode": {
    "name": "ipython",
    "version": 3
   },
   "file_extension": ".py",
   "mimetype": "text/x-python",
   "name": "python",
   "nbconvert_exporter": "python",
   "pygments_lexer": "ipython3",
   "version": "3.8.8"
  }
 },
 "nbformat": 4,
 "nbformat_minor": 5
}
